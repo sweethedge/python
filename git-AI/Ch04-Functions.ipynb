{
 "cells": [
  {
   "cell_type": "code",
   "execution_count": 2,
   "metadata": {
    "collapsed": true
   },
   "outputs": [
    {
     "name": "stdout",
     "output_type": "stream",
     "text": [
      "4 is maximum\n"
     ]
    }
   ],
   "source": [
    "def print_max(a, b):\n",
    "    \"\"\"\n",
    "    :param a: 그냥 숫자 1\n",
    "    :param b: 그냥 숫자 2\n",
    "    :return: 반환하는 건 없고 그냥 print해줌\n",
    "    \"\"\"\n",
    "    if a > b:\n",
    "        print(a, 'is maximum')\n",
    "    elif a == b:\n",
    "        print(a, 'is equal to', b)\n",
    "    else:\n",
    "        print(b, 'is maximum')\n",
    "\n",
    "print_max(3, 4)"
   ]
  },
  {
   "cell_type": "code",
   "execution_count": 4,
   "outputs": [
    {
     "name": "stdout",
     "output_type": "stream",
     "text": [
      "Help on function print_max in module __main__:\n",
      "\n",
      "print_max(a, b)\n",
      "    :param a: 그냥 숫자 1\n",
      "    :param b: 그냥 숫자 2\n",
      "    :return: 반환하는 건 없고 그냥 print해줌\n",
      "\n"
     ]
    }
   ],
   "source": [
    "help(print_max)"
   ],
   "metadata": {
    "collapsed": false
   }
  },
  {
   "cell_type": "code",
   "execution_count": 5,
   "outputs": [
    {
     "name": "stdout",
     "output_type": "stream",
     "text": [
      "\n",
      "    :param a: 그냥 숫자 1\n",
      "    :param b: 그냥 숫자 2\n",
      "    :return: 반환하는 건 없고 그냥 print해줌\n",
      "    \n"
     ]
    }
   ],
   "source": [
    "print(print_max.__doc__)"
   ],
   "metadata": {
    "collapsed": false
   }
  },
  {
   "cell_type": "code",
   "execution_count": 6,
   "outputs": [
    {
     "name": "stdout",
     "output_type": "stream",
     "text": [
      "None\n"
     ]
    }
   ],
   "source": [
    "# return 에 아무것도 안 적은 함수를 찍어보면 none이 찍힌다.\n",
    "def f():\n",
    "    a = 1\n",
    "print(f())"
   ],
   "metadata": {
    "collapsed": false
   }
  },
  {
   "cell_type": "code",
   "execution_count": 7,
   "outputs": [
    {
     "name": "stdout",
     "output_type": "stream",
     "text": [
      "x is 50\n",
      "Changed local x to 2\n",
      "x is still 50\n"
     ]
    }
   ],
   "source": [
    "x = 50\n",
    "\n",
    "def func(x):\n",
    "    print('x is', x)\n",
    "    x = 2\n",
    "    print('Changed local x to', x)\n",
    "\n",
    "func(x)\n",
    "print('x is still', x)"
   ],
   "metadata": {
    "collapsed": false
   }
  },
  {
   "cell_type": "code",
   "execution_count": 31,
   "outputs": [
    {
     "name": "stdout",
     "output_type": "stream",
     "text": [
      "2: function main\n",
      "3: function trivial\n",
      "2: function main\n"
     ]
    }
   ],
   "source": [
    "def main():\n",
    "    x = 2\n",
    "    print(str(x) + \": function main\")\n",
    "    trivial()\n",
    "    print(str(x) + \": function main\")\n",
    "\n",
    "def trivial():\n",
    "    x = 3\n",
    "    print(str(x) + \": function trivial\")\n",
    "\n",
    "main()"
   ],
   "metadata": {
    "collapsed": false
   }
  },
  {
   "cell_type": "code",
   "execution_count": 34,
   "outputs": [
    {
     "name": "stdout",
     "output_type": "stream",
     "text": [
      "x is 50\n",
      "Changed global x to 2\n",
      "Value of x is 2\n"
     ]
    }
   ],
   "source": [
    "x = 50\n",
    "\n",
    "def main():\n",
    "    func()\n",
    "    print('Value of x is', x)\n",
    "\n",
    "def func():\n",
    "    global x\n",
    "    print('x is', x)\n",
    "    x = 2\n",
    "    print('Changed global x to', x)\n",
    "\n",
    "main()"
   ],
   "metadata": {
    "collapsed": false
   }
  },
  {
   "cell_type": "code",
   "execution_count": 43,
   "outputs": [
    {
     "name": "stdout",
     "output_type": "stream",
     "text": [
      "31.00627667764115\n"
     ]
    }
   ],
   "source": [
    "PI = 3.1415926535\n",
    "\n",
    "r1 = 1\n",
    "r2 = 2\n",
    "r3 = 3\n",
    "\n",
    "area1 = PI ** r1\n",
    "area2 = PI ** r2\n",
    "area3 = PI ** r3\n",
    "print(area3)"
   ],
   "metadata": {
    "collapsed": false
   }
  },
  {
   "cell_type": "code",
   "execution_count": 3,
   "outputs": [
    {
     "name": "stdout",
     "output_type": "stream",
     "text": [
      "First name:  Alexander\n"
     ]
    }
   ],
   "source": [
    "def main():\n",
    "    fullName = input(\"Enter a person's full name: \")\n",
    "    print(\"First name: \", firstName(fullName))\n",
    "\n",
    "def firstName(fullName):\n",
    "    firstSpace = fullName.index(\" \")\n",
    "    givenName = fullName[:firstSpace]\n",
    "    return givenName\n",
    "\n",
    "main()"
   ],
   "metadata": {
    "collapsed": false
   }
  },
  {
   "cell_type": "code",
   "execution_count": 28,
   "outputs": [
    {
     "name": "stdout",
     "output_type": "stream",
     "text": [
      "Earnings: $300.00\n"
     ]
    }
   ],
   "source": [
    "import finance\n",
    "def main():\n",
    "    hourlyWage = float(input(\"Enter the hourly wage: \"))\n",
    "    hoursWorked = int(input(\"Enter # hours worked: \"))\n",
    "    earnings = finance.pay(hourlyWage, hoursWorked)\n",
    "    # , 넣고, 소수점 둘째자리까지\n",
    "    print(\"Earnings: ${0:,.2f}\".format(earnings))\n",
    "\n",
    "# def pay(wage, hours):\n",
    "#     if hours <= 40:\n",
    "#         amount = wage * hours\n",
    "#     else:\n",
    "#         # 40시간 초과에 대해서는 1.5배 해달라\n",
    "#         amount = (wage * 40) + (1.5 * wage * (hours - 40))\n",
    "#     return amount\n",
    "\n",
    "main()"
   ],
   "metadata": {
    "collapsed": false
   }
  },
  {
   "cell_type": "code",
   "execution_count": 15,
   "outputs": [
    {
     "name": "stdout",
     "output_type": "stream",
     "text": [
      "The following vowels ocur in the word: ['E', 'O']\n"
     ]
    }
   ],
   "source": [
    "def main():\n",
    "    word = input(\"Enter a word: \")\n",
    "    listofVowels = occuringVowels(word)\n",
    "    print(\"The following vowels occur in the word:\", end=' ')\n",
    "    stringofVowels = \" \".join(listofVowels)\n",
    "    print(listofVowels)\n",
    "\n",
    "# membership test\n",
    "# list-valued function\n",
    "def occuringVowels(word):\n",
    "    word = word.upper()\n",
    "    vowels = ('A', 'E', 'I', 'O', 'U')\n",
    "    includedVowels = []\n",
    "    for vowel in vowels:\n",
    "        if vowel in word:\n",
    "            includedVowels.append(vowel)\n",
    "    return includedVowels\n",
    "\n",
    "main()"
   ],
   "metadata": {
    "collapsed": false
   }
  },
  {
   "cell_type": "markdown",
   "source": [],
   "metadata": {
    "collapsed": false
   }
  },
  {
   "cell_type": "code",
   "execution_count": 8,
   "outputs": [
    {
     "name": "stdout",
     "output_type": "stream",
     "text": [
      "Balance: $12,166.53   Interest Earned: $2,166.53\n"
     ]
    }
   ],
   "source": [
    "# named constant\n",
    "INTEREST_RATE = .04\n",
    "\n",
    "def main():\n",
    "    (deposit, numberOfYears) = getInput()\n",
    "    bal, intEarned = balAndInterest(deposit, numberOfYears)\n",
    "    displayOutput(bal, intEarned)\n",
    "\n",
    "def getInput():\n",
    "    deposit = int(input(\"Enter the amount of deposit: \"))\n",
    "    numberOfYears = int(input(\"Enter # of years: \"))\n",
    "    return deposit, numberOfYears\n",
    "\n",
    "# 원금, 햇수\n",
    "def balAndInterest(principal, numYears):\n",
    "    balance = principal * ((1 + INTEREST_RATE) ** numYears)\n",
    "    # 잔고에서 원금 뺀 게 이자.\n",
    "    interestEarned = balance - principal\n",
    "    return balance, interestEarned\n",
    "\n",
    "def displayOutput(bal, intEarned):\n",
    "    print(\"Balance: ${0:,.2f}   Interest Earned: ${1:,.2f}\".format(bal, intEarned))\n",
    "\n",
    "main()"
   ],
   "metadata": {
    "collapsed": false
   }
  },
  {
   "cell_type": "code",
   "execution_count": 24,
   "outputs": [
    {
     "name": "stdout",
     "output_type": "stream",
     "text": [
      "Sorted by length in ascending order: \n",
      "['two', 'brrr', 'break', 'equals', 'sequoia', 'democratic'] \n",
      "\n",
      "Sorted by number of vowels in desending order: \n",
      "['sequoia', 'democratic', 'equals', 'break', 'two', 'brrr']\n"
     ]
    }
   ],
   "source": [
    "def main():\n",
    "    list1 = [\"democratic\", 'sequoia', 'equals', 'brrr', 'break', 'two']\n",
    "    list1.sort(key=len)\n",
    "    print(\"Sorted by length in ascending order: \")\n",
    "    print(list1, '\\n')\n",
    "    list1.sort(key=numberOfVowels, reverse=True)\n",
    "    print(\"Sorted by number of vowels in desending order: \")\n",
    "    print(list1)\n",
    "\n",
    "def numberOfVowels(word):\n",
    "    vowels = ('a', 'e', 'i', 'o', 'u')\n",
    "    total = 0\n",
    "    for vowel in vowels:\n",
    "        total += word.count(vowel)\n",
    "    return total\n",
    "\n",
    "main()"
   ],
   "metadata": {
    "collapsed": false
   }
  },
  {
   "cell_type": "code",
   "execution_count": null,
   "outputs": [],
   "source": [
    "# sort() : method\n",
    "# sorted(list, tuple, set..) : func\n",
    "    # 즉 return이 존재\n",
    "    # 매개변수에 set이 들어왔다면 list로 return"
   ],
   "metadata": {
    "collapsed": false
   }
  },
  {
   "cell_type": "code",
   "execution_count": 27,
   "outputs": [
    {
     "name": "stdout",
     "output_type": "stream",
     "text": [
      "['blue', 'red', 'white']\n",
      "['white', 'red', 'blue']\n",
      "['red', 'blue', 'white']\n",
      "['white', 'blue', 'red']\n",
      "['a', 'm', 'p', 's']\n"
     ]
    }
   ],
   "source": [
    "# sort vs sorted\n",
    "# sorted - 원본은 놔 둔다\n",
    "list1 = ['white', 'blue', 'red']\n",
    "list2 = sorted(list1)\n",
    "print(list2)\n",
    "print(sorted(list1, reverse=True))\n",
    "print(sorted(list1, key=len))\n",
    "print(list1) # sort와 달리 sorted는 그대로 있는 걸 볼 수 있음\n",
    "print(sorted('spam'))"
   ],
   "metadata": {
    "collapsed": false
   }
  },
  {
   "cell_type": "code",
   "execution_count": 35,
   "outputs": [
    {
     "name": "stdout",
     "output_type": "stream",
     "text": [
      "[2, 5, 6, 7]\n",
      "[4, 25, 36, 49]\n"
     ]
    }
   ],
   "source": [
    "# List Comprehension\n",
    "\n",
    "list1 = ['2', '5', '6', '7']\n",
    "print([int(x) for x in list1])\n",
    "\n",
    "def g(x):\n",
    "    return int(x) ** 2\n",
    "print([g(x) for x in list1])"
   ],
   "metadata": {
    "collapsed": false
   }
  },
  {
   "cell_type": "code",
   "execution_count": 36,
   "outputs": [
    {
     "data": {
      "text/plain": "[25, 49]"
     },
     "execution_count": 36,
     "metadata": {},
     "output_type": "execute_result"
    }
   ],
   "source": [
    "[g(x) for x in list1 if int(x) % 2 == 1] # list1의 x에 대해서 g(x)를 해 달라. 근데 x가 홀수이면"
   ],
   "metadata": {
    "collapsed": false
   }
  },
  {
   "cell_type": "code",
   "execution_count": 42,
   "outputs": [
    {
     "name": "stdout",
     "output_type": "stream",
     "text": [
      "[97, 98, 99]\n",
      "[2.0, 3.0]\n",
      "[0, 1, 4]\n"
     ]
    }
   ],
   "source": [
    "# ord(x) - abc의 x에 대해 아스키코드로 바꿔 달라\n",
    "print([ord(x) for x in \"abc\"])\n",
    "print([x ** .5 for x in (4, -1, 9) if x >= 0])\n",
    "print([x ** 2 for x in range(3)])"
   ],
   "metadata": {
    "collapsed": false
   }
  },
  {
   "cell_type": "code",
   "execution_count": 44,
   "outputs": [
    {
     "name": "stdout",
     "output_type": "stream",
     "text": [
      "65\n",
      "A\n"
     ]
    }
   ],
   "source": [
    "# ord ↔ chr\n",
    "print(ord('A'))\n",
    "print(chr(65))"
   ],
   "metadata": {
    "collapsed": false
   }
  },
  {
   "cell_type": "code",
   "execution_count": 48,
   "outputs": [
    {
     "name": "stdout",
     "output_type": "stream",
     "text": [
      "Hello\n",
      "WorldWorldWorldWorldWorld\n"
     ]
    }
   ],
   "source": [
    "def main():\n",
    "    say('Hello')\n",
    "    say('World', 5)\n",
    "\n",
    "def say(message, times=1):\n",
    "    print(message * times)\n",
    "\n",
    "main()"
   ],
   "metadata": {
    "collapsed": false
   }
  },
  {
   "cell_type": "code",
   "execution_count": 49,
   "outputs": [
    {
     "name": "stdout",
     "output_type": "stream",
     "text": [
      "a is 3 and b is 7 and c is 10\n",
      "a is 25 and b is 5 and c is 24\n",
      "a is 100 and b is 5 and c is 50\n"
     ]
    }
   ],
   "source": [
    "def main():\n",
    "    func(3, 7)\n",
    "    # 생략할 거면 자리를 정확하게 맞춰라.\n",
    "    func(25, c=24)\n",
    "    # parameter를 정확하게 쓰면 순서를 바꿔도 된다.\n",
    "    func(c=50, a=100)\n",
    "\n",
    "# a는 호출할 때 넣어줘야 되고, b/c는 optional하게 쓸 수 있도록 default 값을 줬다.\n",
    "def func(a, b=5, c=10):\n",
    "    print('a is', a, 'and b is', b, 'and c is', c)\n",
    "\n",
    "main()"
   ],
   "metadata": {
    "collapsed": false
   }
  },
  {
   "cell_type": "code",
   "execution_count": 50,
   "outputs": [
    {
     "name": "stdout",
     "output_type": "stream",
     "text": [
      "John Backus, James Gosling, Alan Kay, Dennis Ritchie\n"
     ]
    }
   ],
   "source": [
    "# Lambda Expression\n",
    "names = ['Dennis Ritchie', 'Alan Kay', 'John Backus', 'James Gosling']\n",
    "# split()에 매개변수를 안 넣어주면 띄어쓰기 기준\n",
    "# 근데 여기서는 뒤에서 긁었으니까 성 기준이 될 거다.\n",
    "# 변수가 name인데 거기에 대입되는 게 name.split()[-1]\n",
    "names.sort(key=lambda name: name.split()[-1])\n",
    "# , 넣어서 concatenate 하라는 얘기\n",
    "nameString = ', '.join(names)\n",
    "print(nameString)"
   ],
   "metadata": {
    "collapsed": false
   }
  }
 ],
 "metadata": {
  "kernelspec": {
   "display_name": "Python 3",
   "language": "python",
   "name": "python3"
  },
  "language_info": {
   "codemirror_mode": {
    "name": "ipython",
    "version": 2
   },
   "file_extension": ".py",
   "mimetype": "text/x-python",
   "name": "python",
   "nbconvert_exporter": "python",
   "pygments_lexer": "ipython2",
   "version": "2.7.6"
  }
 },
 "nbformat": 4,
 "nbformat_minor": 0
}
