{
 "cells": [
  {
   "cell_type": "code",
   "execution_count": null,
   "outputs": [],
   "source": [
    "# \"정말 중요해요\"\n",
    "# 야 책갈피 세워놨으니까 거기서부터 봐라"
   ],
   "metadata": {
    "collapsed": false
   }
  },
  {
   "cell_type": "code",
   "execution_count": 1,
   "metadata": {
    "collapsed": true
   },
   "outputs": [
    {
     "name": "stdout",
     "output_type": "stream",
     "text": [
      "George Washington\n",
      "John Adams\n",
      "Thomas Jefferson\n",
      "\n",
      "['George Washington', 'John Adams', 'Thomas Jefferson']\n",
      "\n",
      "George Washington\n",
      "John Adams\n",
      "Thomas Jefferson\n"
     ]
    }
   ],
   "source": [
    "def main():\n",
    "    file = 'FirstPresidents.txt'\n",
    "    displayWithForLoop(file)\n",
    "    print()\n",
    "    displayWithListComprehension(file)\n",
    "    print()\n",
    "    displayWithReadline(file)\n",
    "\n",
    "def displayWithForLoop(file):\n",
    "    infile = open(file, 'r')\n",
    "    for line in infile:\n",
    "        print(line.rstrip())\n",
    "    infile.close()\n",
    "\n",
    "def displayWithListComprehension(file):\n",
    "    infile = open(file, 'r')\n",
    "    listPres = [line.rstrip() for line in infile]\n",
    "    infile.close()\n",
    "    print(listPres)\n",
    "\n",
    "def displayWithReadline(file):\n",
    "    infile = open(file, 'r')\n",
    "    line = infile.readline()\n",
    "    while line != \"\":\n",
    "        print(line.rstrip())\n",
    "        line = infile.readline()\n",
    "    infile.close()\n",
    "\n",
    "main()"
   ]
  },
  {
   "cell_type": "code",
   "execution_count": 3,
   "outputs": [],
   "source": [
    "def main():\n",
    "    L = ['George Washington', 'John Adams', 'Thomas Jefferson']\n",
    "    outfile = open('FirstPresidents2.txt', 'w')\n",
    "    createWithWrite(L, outfile)\n",
    "    outfile = open('FirstPresidents3.txt', 'w')\n",
    "    createWithWritelines(L, outfile)\n",
    "\n",
    "def createWithWrite(L, outfile):\n",
    "    for i in range(len(L)):\n",
    "        outfile.write(L[i] + '\\n')\n",
    "    outfile.close()\n",
    "\n",
    "# 교재랑 좀 다름 (64p)\n",
    "def createWithWritelines(L, outfile):\n",
    "    for i in range(len(L)):\n",
    "        L[i] = L[i] + '\\n'\n",
    "    outfile.writelines(L)\n",
    "    outfile.close()\n",
    "\n",
    "main()"
   ],
   "metadata": {
    "collapsed": false
   }
  },
  {
   "cell_type": "code",
   "execution_count": 1,
   "outputs": [],
   "source": [
    "def main():\n",
    "    statesList = createListFromFile(\"States.txt\")\n",
    "    createSortedFile(statesList, 'StatesAlpha.txt')\n",
    "\n",
    "def createListFromFile(fileName):\n",
    "    infile = open(fileName, 'r')\n",
    "    desiredList = [line.rstrip() for line in infile]\n",
    "    infile.close()\n",
    "    return desiredList\n",
    "\n",
    "def createSortedFile(listName, fileName):\n",
    "    listName.sort()\n",
    "    for i in range(len(listName)):\n",
    "        listName[i] = listName[i] + '\\n'\n",
    "    outfile = open(fileName, 'w')\n",
    "    outfile.writelines(listName)\n",
    "    outfile.close()\n",
    "\n",
    "main()"
   ],
   "metadata": {
    "collapsed": false
   }
  },
  {
   "cell_type": "code",
   "execution_count": 7,
   "outputs": [],
   "source": [
    "def main():\n",
    "    vicePresList = createListFromFile(\"VPres.txt\")\n",
    "    createNewFile(vicePresList, \"USPres.txt\", \"Both.txt\")\n",
    "\n",
    "def createListFromFile(filename):\n",
    "    infile = open(filename, 'r')\n",
    "    desiredList = [line.rstrip() for line in infile]\n",
    "    infile.close()\n",
    "    return desiredList\n",
    "\n",
    "def createNewFile(listName, oldFileName, newFileName):\n",
    "    infile = open(oldFileName, 'r')\n",
    "    outfile = open(newFileName, 'w')\n",
    "    for person in infile:\n",
    "        if person.rstrip() in listName:\n",
    "            outfile.write(person)\n",
    "    infile.close()\n",
    "    outfile.close()\n",
    "\n",
    "main()"
   ],
   "metadata": {
    "collapsed": false
   }
  },
  {
   "cell_type": "code",
   "execution_count": 2,
   "outputs": [],
   "source": [
    "def main():\n",
    "    outfile = open('FirstPresidents.txt', 'a')\n",
    "    list1 = ['James Madison\\n', 'James Monroe\\n']\n",
    "    outfile.writelines(list1)\n",
    "    outfile.write('John Q. Adams\\n')\n",
    "    outfile.close()\n",
    "\n",
    "main()"
   ],
   "metadata": {
    "collapsed": false
   }
  },
  {
   "cell_type": "code",
   "execution_count": 2,
   "outputs": [
    {
     "name": "stdout",
     "output_type": "stream",
     "text": [
      "File already exists.\n"
     ]
    }
   ],
   "source": [
    "import os.path\n",
    "\n",
    "if os.path.isfile('ABC.txt'):\n",
    "    print('File already exists.')\n",
    "else:\n",
    "    infile = open('ABC.txt', 'w')\n",
    "    infile.write('a\\nb\\nc')\n",
    "    infile.close()"
   ],
   "metadata": {
    "collapsed": false
   }
  },
  {
   "cell_type": "code",
   "execution_count": 3,
   "outputs": [
    {
     "name": "stdout",
     "output_type": "stream",
     "text": [
      "<class 'set'>\n",
      "1 True\n",
      "2 False\n",
      "3 {'india', 'brazil'}\n",
      "4 {'india', 'brazil', 'china', 'russia'}\n",
      "5 True\n",
      "6 {'brazil', 'india'}\n",
      "6-1 {'brazil', 'india'}\n",
      "7 {'china', 'russia'}\n",
      "8 {'india', 'brazil', 'china', 'russia'}\n"
     ]
    }
   ],
   "source": [
    "bri = {'brazil', 'russia', 'india'}\n",
    "print('1','india' in bri)\n",
    "print('2', 'usa' in bri)\n",
    "bric = bri.copy()\n",
    "bric.add('china')\n",
    "bri.remove('russia')\n",
    "print('3', bri)\n",
    "print('4', bric)\n",
    "print('5', bric.issuperset(bri)) # bric이 bri를 포함하는지\n",
    "print('6', bri & bric)\n",
    "print('6-1', bri.intersection(bric))\n",
    "print('7', bric.difference(bri))\n",
    "print('8', bric.union(bri))"
   ],
   "metadata": {
    "collapsed": false
   }
  },
  {
   "cell_type": "code",
   "execution_count": 98,
   "outputs": [
    {
     "name": "stdout",
     "output_type": "stream",
     "text": [
      "1 ['nudge', 'nudge', 'wink', 'wink']\n",
      "2 {'nudge', 'wink'}\n",
      "3 ['nudge', 'wink']\n",
      "4 ('nudge', 'wink')\n",
      "5 {'a', 'b', 'c'}\n",
      "6 set()\n"
     ]
    }
   ],
   "source": [
    "words = ['nudge', 'nudge', 'wink', 'wink']\n",
    "print('1', words)\n",
    "# 원래 set은 중복이 안된다\n",
    "terms = set(words)\n",
    "print('2', terms)\n",
    "print('3', list(terms))\n",
    "print('4', tuple(terms))\n",
    "alpha = ('a', 'b', 'c')\n",
    "print('5', set(alpha))\n",
    "terms.clear()\n",
    "print('6', terms)"
   ],
   "metadata": {
    "collapsed": false
   }
  },
  {
   "cell_type": "code",
   "execution_count": 292,
   "outputs": [
    {
     "name": "stdout",
     "output_type": "stream",
     "text": [
      "1 {'russia', 'india', 'china', 'brazil'}\n",
      "2 ['brazil', 'china', 'india', 'russia']\n",
      "3 ['russia', 'brazil', 'india', 'china']\n",
      "4 {'russia', 'india', 'china', 'brazil'}\n"
     ]
    }
   ],
   "source": [
    "bric = {'brazil', 'china', 'india', 'russia'}\n",
    "print('1',bric)\n",
    "print('2', sorted(bric))\n",
    "print('3', sorted(bric, key=len, reverse=True))\n",
    "print('4', bric)\n",
    "# set을 sorted하면 list로 만들어주는데\n",
    "# 그렇다고 원본이 바뀌는 건 아니다. 원래 set는 unordered거든."
   ],
   "metadata": {
    "collapsed": false
   }
  },
  {
   "cell_type": "code",
   "execution_count": 296,
   "outputs": [
    {
     "data": {
      "text/plain": "{0, 1, 4, 9}"
     },
     "execution_count": 296,
     "metadata": {},
     "output_type": "execute_result"
    }
   ],
   "source": [
    "# \"List Comprehension은 외워서라도 쓰려고 노력해라\"\n",
    "{x*x for x in range(-3, 3)}"
   ],
   "metadata": {
    "collapsed": false
   }
  },
  {
   "cell_type": "code",
   "execution_count": 297,
   "outputs": [],
   "source": [
    "# \"메서드 이름만 봐도 알 수 있게 코딩하는 게 니가 나중에 볼 때 속이 편할 거다\"\n",
    "def main():\n",
    "    vicePresSet = createSetFromFile(\"VPres.txt\")\n",
    "    presSet = createSetFromFile(\"USPres.txt\")\n",
    "    bothPresAndVPresSet = createIntersection(vicePresSet, presSet)\n",
    "    writeNamesToFile(bothPresAndVPresSet, \"PresAndVPres.txt\")\n",
    "\n",
    "def createSetFromFile(fileName):\n",
    "    infile = open(fileName, 'r')\n",
    "    namesSet = {name for name in infile}\n",
    "    infile.close()\n",
    "    return namesSet\n",
    "\n",
    "def createIntersection(set1, set2):\n",
    "    return set1.intersection(set2)\n",
    "\n",
    "def writeNamesToFile(setName, fileName):\n",
    "    outfile = open(fileName, 'w')\n",
    "    outfile.writelines(setName)\n",
    "    outfile.close()\n",
    "\n",
    "main()"
   ],
   "metadata": {
    "collapsed": false
   }
  },
  {
   "cell_type": "code",
   "execution_count": null,
   "outputs": [],
   "source": [
    "# set\n",
    "# 두가지만 기억하세요\n",
    "# 1. 중복 비허용\n",
    "# 2. 순서가 없음"
   ],
   "metadata": {
    "collapsed": false
   }
  },
  {
   "cell_type": "code",
   "execution_count": 3,
   "outputs": [
    {
     "name": "stdout",
     "output_type": "stream",
     "text": [
      "Albania\n",
      "Andorra\n",
      "Austria\n",
      "Belarus\n",
      "Belgium\n",
      "Bosnia and Herzegovina\n",
      "Bulgaria\n",
      "Croatia\n",
      "Czech Republic\n",
      "Denmark\n",
      "Estonia\n",
      "Finland\n",
      "France\n",
      "Germany\n",
      "Greece\n",
      "Hungary\n",
      "Iceland\n",
      "Ireland\n",
      "Italy\n",
      "Latvia\n",
      "Liechtenstein\n",
      "Lithuania\n",
      "Luxembourg\n",
      "Malta\n",
      "Monaco\n",
      "Montenegro\n",
      "Netherlands\n",
      "Norway\n",
      "Poland\n",
      "Portugal\n",
      "Republic of Moldova\n",
      "Romania\n",
      "Russian Federation\n",
      "San Marino\n",
      "Serbia\n",
      "Slovakia\n",
      "Slovenia\n",
      "Spain\n",
      "Sweden\n",
      "Switzerland\n",
      "The former Yugoslav Republic of Macedonia\n",
      "Ukraine\n",
      "United Kingdom\n"
     ]
    }
   ],
   "source": [
    "def main():\n",
    "    continent = input('Enter the name of a continent: ')\n",
    "    # .title() - 두문자만 대문자로 해 주는 거\n",
    "    continent = continent.title()\n",
    "    if continent != 'Antarctica':\n",
    "        infile = open('UN.txt', 'r')\n",
    "        for line in infile:\n",
    "            data = line.split(',')\n",
    "            if data[1] == continent:\n",
    "                print(data[0])\n",
    "    else:\n",
    "        print(\"There are no countries in Antarctica.\")\n",
    "\n",
    "main()"
   ],
   "metadata": {
    "collapsed": false
   }
  },
  {
   "cell_type": "code",
   "execution_count": 6,
   "outputs": [
    {
     "name": "stdout",
     "output_type": "stream",
     "text": [
      "Country             Area (sq. mi.)\n",
      "Russian Federation  6,592,800\n",
      "Canada              3,855,000\n",
      "United States       3,794,066\n",
      "China               3,696,100\n",
      "Brazil              3,287,597\n"
     ]
    }
   ],
   "source": [
    "def main():\n",
    "    countries = placeRecordsIntoList(\"UN.txt\")\n",
    "    countries.sort(key=lambda country: country[3], reverse=True)\n",
    "    displayFiveLargestCountries(countries)\n",
    "    createNewFile(countries)\n",
    "\n",
    "def placeRecordsIntoList(fileName):\n",
    "    infile = open(fileName, 'r')\n",
    "    listOfRecords = [line.rstrip() for line in infile]\n",
    "    infile.close()\n",
    "    for i in range(len(listOfRecords)):\n",
    "        listOfRecords[i] = listOfRecords[i].split(',')\n",
    "        listOfRecords[i][2] = eval(listOfRecords[i][2])\n",
    "        listOfRecords[i][3] = eval(listOfRecords[i][3])\n",
    "    return listOfRecords\n",
    "\n",
    "def displayFiveLargestCountries(countries):\n",
    "    print(\"{0:20}{1:9}\".format(\"Country\", \"Area (sq. mi.)\"))\n",
    "    for i in range(5):\n",
    "        print(\"{0:20}{1:9,d}\".format(countries[i][0], countries[i][3]))\n",
    "\n",
    "def createNewFile(countries):\n",
    "    outfile = open('UNbyArea.txt', 'w')\n",
    "    for country in countries:\n",
    "        outfile.write(country[0] + ',' + str(country[3]) + '\\n')\n",
    "    outfile.close()\n",
    "\n",
    "main()"
   ],
   "metadata": {
    "collapsed": false
   }
  },
  {
   "cell_type": "code",
   "execution_count": 13,
   "outputs": [
    {
     "name": "stdout",
     "output_type": "stream",
     "text": [
      "{'one': 1, 'two': 2, 'three': 3}\n"
     ]
    },
    {
     "data": {
      "text/plain": "{'one': 1, 'two': 2, 'three': 3}"
     },
     "execution_count": 13,
     "metadata": {},
     "output_type": "execute_result"
    }
   ],
   "source": [
    "list1 = [[\"one\", 1], ['two', 2], ['three', 3]]\n",
    "print(dict(list1))\n",
    "list2 = [('one', 1), ('two', 2), ('three', 3)]\n",
    "dict(list2)"
   ],
   "metadata": {
    "collapsed": false
   }
  },
  {
   "cell_type": "code",
   "execution_count": 15,
   "outputs": [
    {
     "name": "stdout",
     "output_type": "stream",
     "text": [
      "Larry's address is,  larry@wall.org\n"
     ]
    }
   ],
   "source": [
    "# \"자료구조를 잘 골라야 헛짓거리를 안 한다\"\n",
    "addr = {\n",
    "    'Swaroop' : 'swaroop@swaroopch.com',\n",
    "    'Larry' : 'larry@wall.org',\n",
    "    'Matsumoto' : 'matz@ruby-lang.org',\n",
    "    'Spammer' : 'spammer@hotmail.com'\n",
    "}\n",
    "\n",
    "print(\"Larry's address is, \", addr['Larry'])"
   ],
   "metadata": {
    "collapsed": false
   }
  },
  {
   "cell_type": "code",
   "execution_count": 18,
   "outputs": [
    {
     "data": {
      "text/plain": "dict_items"
     },
     "execution_count": 18,
     "metadata": {},
     "output_type": "execute_result"
    }
   ],
   "source": [
    "type(addr.items())"
   ],
   "metadata": {
    "collapsed": false
   }
  },
  {
   "cell_type": "code",
   "execution_count": 25,
   "outputs": [
    {
     "name": "stdout",
     "output_type": "stream",
     "text": [
      "<class 'dict'>\n"
     ]
    },
    {
     "data": {
      "text/plain": "set()"
     },
     "execution_count": 25,
     "metadata": {},
     "output_type": "execute_result"
    }
   ],
   "source": [
    "a={}\n",
    "# 아무것도 안 넣으면 empty dict가 만들어진다.\n",
    "print(type(a))\n",
    "# 이래야 empty set이 만들어짐\n",
    "b = set()\n",
    "b"
   ],
   "metadata": {
    "collapsed": false
   }
  },
  {
   "cell_type": "code",
   "execution_count": 26,
   "outputs": [
    {
     "name": "stdout",
     "output_type": "stream",
     "text": [
      "Enter the person's age group The admission fee is 5 dollars.\n"
     ]
    }
   ],
   "source": [
    "# list vs dict\n",
    "# 그러니까 자료구조를 잘 고르는 게 중요하다.\n",
    "\n",
    "def main():\n",
    "    print(\"Enter the person's age group \", end=\"\")\n",
    "    ageGroup = input(\"(child, minor, adult or senior): \")\n",
    "    print(\"The admission fee is\", determineAdmissionFee(ageGroup), \"dollars.\")\n",
    "\n",
    "def determineAdmissionFee(ageGroup):\n",
    "    if ageGroup == 'child':\n",
    "        return 0\n",
    "    elif ageGroup == 'minor':\n",
    "        return 5\n",
    "    elif ageGroup == 'adult':\n",
    "        return 10\n",
    "    elif ageGroup == 'senior':\n",
    "        return 8\n",
    "\n",
    "main()"
   ],
   "metadata": {
    "collapsed": false
   }
  },
  {
   "cell_type": "code",
   "execution_count": 29,
   "outputs": [
    {
     "name": "stdout",
     "output_type": "stream",
     "text": [
      "Enter the person's age group The admission fee is 10 dollars.\n"
     ]
    }
   ],
   "source": [
    "def main():\n",
    "    print(\"Enter the person's age group \", end=\"\")\n",
    "    ageGroup = input(\"(child, minor, adult or senior): \")\n",
    "    print(\"The admission fee is\", determineAdmissionFee(ageGroup), \"dollars.\")\n",
    "\n",
    "def determineAdmissionFee(ageGroup):\n",
    "    dict = {\"child\":0, \"minor\":5, \"adult\":10, \"senior\":8}\n",
    "    return dict[ageGroup]\n",
    "\n",
    "main()"
   ],
   "metadata": {
    "collapsed": false
   }
  },
  {
   "cell_type": "code",
   "execution_count": null,
   "outputs": [],
   "source": [
    "# 책갈피"
   ],
   "metadata": {
    "collapsed": false
   }
  },
  {
   "cell_type": "code",
   "execution_count": 41,
   "outputs": [
    {
     "name": "stdout",
     "output_type": "stream",
     "text": [
      "The Gettysburg Address contains 268 words.\n",
      "The Gettysburg Address contains 139 different words.\n",
      "\n",
      "The most common words and their frequencies are:\n",
      "  that: 13\n",
      "  the: 11\n",
      "  we: 10\n",
      "  to: 8\n",
      "  here: 8\n",
      "  a: 7\n",
      "  and: 6\n"
     ]
    }
   ],
   "source": [
    "def main():\n",
    "    listOfWords = formListOfWords(\"Gettysburg.txt\")\n",
    "    freq = createFreqencyDictionary(listOfWords)\n",
    "    displayWordCount(listOfWords, freq)\n",
    "    displayMostCommonWords(freq)\n",
    "\n",
    "def formListOfWords(fileName):\n",
    "    # open()으로 열면 default mode가 'r'이다.\n",
    "    infile = open(fileName)\n",
    "    originalLine = infile.readline().lower()\n",
    "    line = \"\"\n",
    "    for ch in originalLine:\n",
    "        # a ~ z 사이에 있거나 띄어쓰기가 있으면 line에 더해줘라.\n",
    "        if ('a' <= ch <= 'z') or (ch==\" \"):\n",
    "            line += ch\n",
    "            # 띄어쓰기마다 잘라서 listOfWords에 집어넣고 반환해라.\n",
    "    listOfWords = line.split()\n",
    "    return listOfWords\n",
    "\n",
    "def createFreqencyDictionary(listOfWords):\n",
    "    freq = {}\n",
    "    for word in listOfWords:\n",
    "        freq[word] = 0\n",
    "    for word in listOfWords:\n",
    "        freq[word] = freq[word] + 1\n",
    "    return freq\n",
    "\n",
    "def displayWordCount(listOfWords, freq):\n",
    "    print(\"The Gettysburg Address contains\", len(listOfWords), \"words.\")\n",
    "    print(\"The Gettysburg Address contains\", len(freq), \"different words.\")\n",
    "    print()\n",
    "\n",
    "def displayMostCommonWords(freq):\n",
    "    print('The most common words and their frequencies are:')\n",
    "    listOfMostCommonWords = []\n",
    "    for word in freq.keys():\n",
    "        if freq[word] >= 6:\n",
    "            listOfMostCommonWords.append((word, freq[word]))\n",
    "    listOfMostCommonWords.sort(key=lambda x: x[1], reverse=True)\n",
    "    for item in listOfMostCommonWords:\n",
    "        print(\" \", item[0] + ':', item[1])\n",
    "\n",
    "main()"
   ],
   "metadata": {
    "collapsed": false
   }
  },
  {
   "cell_type": "code",
   "execution_count": 1,
   "outputs": [
    {
     "name": "stdout",
     "output_type": "stream",
     "text": [
      "Enter the name of a continent\n"
     ]
    }
   ],
   "source": [
    "import pickle\n",
    "def main():\n",
    "    nations = getDictionary('UNDict.dat')\n",
    "    print('Enter the name of a continent')\n",
    "    continent = input('other than Antarctica: ')\n",
    "    continentDict = constructContinentNations(nations, continent)\n",
    "    displaySortedResults(continentDict)\n",
    "\n",
    "def getDictionary(fileName):\n",
    "    infile = open(fileName, 'rb')\n",
    "    countries = pickle.load(infile)\n",
    "    infile.close()\n",
    "    return countries\n",
    "\n",
    "def constructContinentNations(nations, continent):\n",
    "    continentDict = {}\n",
    "    for nation in nations:\n",
    "        if nations[nation][\"cont\"] == continent:\n",
    "            continentDict[nation] = nations[nation]\n",
    "    return continentDict\n",
    "\n",
    "def displaySortedResults(dictionaryName):\n",
    "    continentList = sorted(dictionaryName.items(), key=lambda k: k[1][\"popl\"], reverse=True)\n",
    "    for k in continentList:\n",
    "        print(\" {0:s}: {1:,.2f}\".format(k[0], k[1][\"popl\"]))\n",
    "\n",
    "main()"
   ],
   "metadata": {
    "collapsed": false
   }
  },
  {
   "cell_type": "code",
   "execution_count": 60,
   "outputs": [
    {
     "name": "stdout",
     "output_type": "stream",
     "text": [
      "{('Buchanan', 'James'): 'Pennsylvannia', ('Washington', 'George'): 'Virginia', ('Buren', 'Martin Van'): 'New York', ('Harding', 'Warren'): 'Ohio', ('Jackson', 'Andrew'): 'Tennessee', ('Harrison', 'William'): 'Ohio', ('Eisenhower', 'Dwight'): 'Kansas', ('Hayes', 'Rutherford'): 'Ohio', ('Garfield', 'James'): 'Ohio', ('Obama', 'Barack'): 'Illinois', ('Arthur', 'Chester'): 'New York', ('Hoover', 'Herbert'): 'California', ('Grant', 'Ulysses'): 'Illinois', ('Monroe', 'James'): 'Virginia', ('Johnson', 'Lyndon'): 'Texas', ('Roosevelt', 'Theodore'): 'New York', ('Adams', 'John Q.'): 'Massachusetts', ('Adams', 'John'): 'Massachusetts', ('Fillmore', 'Millard'): 'New York', ('Madison', 'James'): 'Virginia', ('Nixon', 'Richard'): 'California', ('Bush', 'George W.'): 'Texas', ('Coolidge', 'Calvin'): 'Massachusetts', ('Roosevelt', 'Franklin'): 'New York', ('Pierce', 'Franklin'): 'New Hampshire', ('Jefferson', 'Thomas'): 'Virginia', ('Clinton', 'Bill'): 'Arkansas', ('Lincoln', 'Abraham'): 'Illinois', ('Polk', 'James'): 'Tennessee', ('Reagan', 'Ronald'): 'California', ('Cleveland', 'Grover'): 'New York', ('Tyler', 'John'): 'Virginia', ('Ford', 'Gerald'): 'Michigan', ('Bush', 'George H. W.'): 'Texas', ('McKinley', 'William'): 'Ohio', ('Kennedy', 'John'): 'Massachusetts', ('Johnson', 'Andrew'): 'Tennessee', ('Harrison', 'Benjamin'): 'Indiana', ('Taft', 'William'): 'Ohio', ('Truman', 'Harry'): 'Missouri', ('Taylor', 'Zachary'): 'Lousiana', ('Wilson', 'Woodrow'): 'New Jersey', ('Carter', 'James'): 'Georgia'}\n"
     ]
    }
   ],
   "source": [
    "a = open('USpresStatesDict.dat', 'rb')\n",
    "b = pickle.load(a)\n",
    "a.close()\n",
    "print(b)"
   ],
   "metadata": {
    "collapsed": false
   }
  },
  {
   "cell_type": "code",
   "execution_count": 61,
   "outputs": [
    {
     "data": {
      "text/plain": "{('Buchanan', 'James'): 'Pennsylvannia',\n ('Washington', 'George'): 'Virginia',\n ('Buren', 'Martin Van'): 'New York',\n ('Harding', 'Warren'): 'Ohio',\n ('Jackson', 'Andrew'): 'Tennessee',\n ('Harrison', 'William'): 'Ohio',\n ('Eisenhower', 'Dwight'): 'Kansas',\n ('Hayes', 'Rutherford'): 'Ohio',\n ('Garfield', 'James'): 'Ohio',\n ('Obama', 'Barack'): 'Illinois',\n ('Arthur', 'Chester'): 'New York',\n ('Hoover', 'Herbert'): 'California',\n ('Grant', 'Ulysses'): 'Illinois',\n ('Monroe', 'James'): 'Virginia',\n ('Johnson', 'Lyndon'): 'Texas',\n ('Roosevelt', 'Theodore'): 'New York',\n ('Adams', 'John Q.'): 'Massachusetts',\n ('Adams', 'John'): 'Massachusetts',\n ('Fillmore', 'Millard'): 'New York',\n ('Madison', 'James'): 'Virginia',\n ('Nixon', 'Richard'): 'California',\n ('Bush', 'George W.'): 'Texas',\n ('Coolidge', 'Calvin'): 'Massachusetts',\n ('Roosevelt', 'Franklin'): 'New York',\n ('Pierce', 'Franklin'): 'New Hampshire',\n ('Jefferson', 'Thomas'): 'Virginia',\n ('Clinton', 'Bill'): 'Arkansas',\n ('Lincoln', 'Abraham'): 'Illinois',\n ('Polk', 'James'): 'Tennessee',\n ('Reagan', 'Ronald'): 'California',\n ('Cleveland', 'Grover'): 'New York',\n ('Tyler', 'John'): 'Virginia',\n ('Ford', 'Gerald'): 'Michigan',\n ('Bush', 'George H. W.'): 'Texas',\n ('McKinley', 'William'): 'Ohio',\n ('Kennedy', 'John'): 'Massachusetts',\n ('Johnson', 'Andrew'): 'Tennessee',\n ('Harrison', 'Benjamin'): 'Indiana',\n ('Taft', 'William'): 'Ohio',\n ('Truman', 'Harry'): 'Missouri',\n ('Taylor', 'Zachary'): 'Lousiana',\n ('Wilson', 'Woodrow'): 'New Jersey',\n ('Carter', 'James'): 'Georgia'}"
     },
     "execution_count": 61,
     "metadata": {},
     "output_type": "execute_result"
    }
   ],
   "source": [
    "a = open('USpresStatesDict.dat', 'rb')\n",
    "b = pickle.load(a)\n",
    "b"
   ],
   "metadata": {
    "collapsed": false
   }
  },
  {
   "cell_type": "code",
   "execution_count": 7,
   "outputs": [
    {
     "name": "stdout",
     "output_type": "stream",
     "text": [
      "Presidents from Ohio:\n",
      " James Garfield\n",
      " Warren Harding\n",
      " William Harrison\n",
      " Rutherford Hayes\n",
      " William McKinley\n",
      " William Taft\n"
     ]
    }
   ],
   "source": [
    "def main():\n",
    "    presDict = createDictFromBinaryFile(\"USpresStatesDict.dat\")\n",
    "    state = getState(presDict)\n",
    "    displayOutput(state, presDict)\n",
    "\n",
    "def createDictFromBinaryFile(fileName):\n",
    "    infile = open(fileName, 'rb')\n",
    "    dictionary = pickle.load(infile)\n",
    "    infile.close()\n",
    "    return dictionary\n",
    "\n",
    "def getState(dictName):\n",
    "    state = input('\"Enter the name of a state: ')\n",
    "    if state in dictName.values():\n",
    "        return state\n",
    "    else:\n",
    "        return \"There are no presidents from \" + state + \".\"\n",
    "\n",
    "def displayOutput(state, dictName):\n",
    "    if state.startswith(\"There\"):\n",
    "        print(state)\n",
    "    else:\n",
    "        print(\"Presidents from\", state + \":\")\n",
    "        for pres in sorted(dictName):\n",
    "            if dictName[pres] == state:\n",
    "                print(\" \" + pres[1] + \" \" + pres[0])\n",
    "\n",
    "main()"
   ],
   "metadata": {
    "collapsed": false
   }
  }
 ],
 "metadata": {
  "kernelspec": {
   "display_name": "Python 3",
   "language": "python",
   "name": "python3"
  },
  "language_info": {
   "codemirror_mode": {
    "name": "ipython",
    "version": 2
   },
   "file_extension": ".py",
   "mimetype": "text/x-python",
   "name": "python",
   "nbconvert_exporter": "python",
   "pygments_lexer": "ipython2",
   "version": "2.7.6"
  }
 },
 "nbformat": 4,
 "nbformat_minor": 0
}
