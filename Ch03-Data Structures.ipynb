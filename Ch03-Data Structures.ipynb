{
 "cells": [
  {
   "cell_type": "code",
   "execution_count": 3,
   "metadata": {
    "collapsed": true
   },
   "outputs": [
    {
     "name": "stdout",
     "output_type": "stream",
     "text": [
      "None\n",
      "[1, 2, 3, 4, 5]\n"
     ]
    },
    {
     "data": {
      "text/plain": "['banana', 'carrot', 'mango']"
     },
     "execution_count": 3,
     "metadata": {},
     "output_type": "execute_result"
    }
   ],
   "source": [
    "a = [3, 2, 4, 1]\n",
    "# 출력할 게 없다.\n",
    "print(a.sort())\n",
    "# 배열에 뭐 추가하는 법: append\n",
    "a.append(5)\n",
    "print(a)\n",
    "\n",
    "shoplist = ['apple', 'mango', 'carrot', 'banana']\n",
    "# 알파벳도 잘 정렬되고\n",
    "shoplist.sort()\n",
    "shoplist\n",
    "# 배열에서 뭘 없애려면 del\n",
    "del shoplist[0]\n",
    "shoplist"
   ]
  },
  {
   "cell_type": "code",
   "execution_count": 5,
   "outputs": [
    {
     "name": "stdout",
     "output_type": "stream",
     "text": [
      "값들 넣어본 아무거나 "
     ]
    },
    {
     "data": {
      "text/plain": "['아무거나', '넣어본', '값들']"
     },
     "execution_count": 5,
     "metadata": {},
     "output_type": "execute_result"
    }
   ],
   "source": [
    "asdf = ['아무거나', '넣어본', '값들']\n",
    "asdf.sort()\n",
    "\n",
    "\n",
    "for i in asdf:\n",
    "    print(i, end=\" \")\n",
    "\n",
    "asdf.reverse()\n",
    "asdf"
   ],
   "metadata": {
    "collapsed": false
   }
  },
  {
   "cell_type": "code",
   "execution_count": 27,
   "outputs": [
    {
     "data": {
      "text/plain": "['vnkcxxv', 'zxcvmn', 'asdfnjk', 'wqerkjbfsd']"
     },
     "execution_count": 27,
     "metadata": {},
     "output_type": "execute_result"
    }
   ],
   "source": [
    "zxcv = ['wqerkjbfsd', 'asdfnjk', 'zxcvmn', 'vnkcxxv']\n",
    "zxcv.reverse()\n",
    "zxcv"
   ],
   "metadata": {
    "collapsed": false
   }
  },
  {
   "cell_type": "code",
   "execution_count": 32,
   "outputs": [
    {
     "data": {
      "text/plain": "['a', '', 'b', '', 'c']"
     },
     "execution_count": 32,
     "metadata": {},
     "output_type": "execute_result"
    }
   ],
   "source": [
    "'a**b**c'.split('*')"
   ],
   "metadata": {
    "collapsed": false
   }
  },
  {
   "cell_type": "code",
   "execution_count": 30,
   "outputs": [
    {
     "data": {
      "text/plain": "['a', 'b', 'c']"
     },
     "execution_count": 30,
     "metadata": {},
     "output_type": "execute_result"
    }
   ],
   "source": [
    "'a**b**c'.split('**')"
   ],
   "metadata": {
    "collapsed": false
   }
  },
  {
   "cell_type": "code",
   "execution_count": 31,
   "outputs": [
    {
     "data": {
      "text/plain": "['a', 'b', 'c']"
     },
     "execution_count": 31,
     "metadata": {},
     "output_type": "execute_result"
    }
   ],
   "source": [
    "'a\\nb\\nc'.split()"
   ],
   "metadata": {
    "collapsed": false
   }
  },
  {
   "cell_type": "code",
   "execution_count": 37,
   "outputs": [
    {
     "data": {
      "text/plain": "['a b c']"
     },
     "execution_count": 37,
     "metadata": {},
     "output_type": "execute_result"
    }
   ],
   "source": [
    "'a b c'.split(',')"
   ],
   "metadata": {
    "collapsed": false
   }
  },
  {
   "cell_type": "code",
   "execution_count": 38,
   "outputs": [
    {
     "name": "stdout",
     "output_type": "stream",
     "text": [
      "To be or not to be\n"
     ]
    }
   ],
   "source": [
    "line = ['To', 'be', 'or', 'not', 'to', 'be']\n",
    "# 배열을 하나의 string으로 연결하는 법 : join\n",
    "string = ' '.join(line)\n",
    "print(string)"
   ],
   "metadata": {
    "collapsed": false
   }
  },
  {
   "cell_type": "code",
   "execution_count": 41,
   "outputs": [
    {
     "name": "stdout",
     "output_type": "stream",
     "text": [
      "Snap, Crackle, Pop\n"
     ]
    }
   ],
   "source": [
    "krispies = ['Snap', 'Crackle', 'Pop']\n",
    "print(', '.join(krispies))"
   ],
   "metadata": {
    "collapsed": false
   }
  },
  {
   "cell_type": "code",
   "execution_count": 46,
   "outputs": [
    {
     "name": "stdout",
     "output_type": "stream",
     "text": [
      "<class 'tuple'>\n",
      "<class 'tuple'>\n",
      "<class 'tuple'>\n"
     ]
    }
   ],
   "source": [
    "# tuple\n",
    "# tuple 만드는 법: 소괄호 안에 집어넣어서 만든다\n",
    "# 사실 소괄호 안 쓰고 만드셔도 된다\n",
    "t1 = ('a', 'b', 'c')\n",
    "print(type(t1))\n",
    "t2 = 'a', 'b', 'c'\n",
    "print(type(t2))\n",
    "t3 = 1,\n",
    "print(type(t3))"
   ],
   "metadata": {
    "collapsed": false
   }
  },
  {
   "cell_type": "code",
   "execution_count": 52,
   "outputs": [
    {
     "data": {
      "text/plain": "'penguin'"
     },
     "execution_count": 52,
     "metadata": {},
     "output_type": "execute_result"
    }
   ],
   "source": [
    "zoo = ('python', 'elephant', 'penguin')\n",
    "new_zoo = 'monkey', 'camel', zoo\n",
    "\n",
    "# str 2개에 tuple 1개 = 3개\n",
    "len(new_zoo)\n",
    "\n",
    "# penguin을 찾고 싶으면\n",
    "new_zoo[2][2]"
   ],
   "metadata": {
    "collapsed": false
   }
  },
  {
   "cell_type": "code",
   "execution_count": 54,
   "outputs": [
    {
     "data": {
      "text/plain": "[4, 5, [1, 2, 3]]"
     },
     "execution_count": 54,
     "metadata": {},
     "output_type": "execute_result"
    }
   ],
   "source": [
    "l1 = [1,2,3]\n",
    "l2 = [4,5,l1]\n",
    "l2"
   ],
   "metadata": {
    "collapsed": false
   }
  },
  {
   "cell_type": "code",
   "execution_count": 56,
   "outputs": [
    {
     "data": {
      "text/plain": "2"
     },
     "execution_count": 56,
     "metadata": {},
     "output_type": "execute_result"
    }
   ],
   "source": [
    "# 2를 찾고 싶으면\n",
    "l2[2][1]"
   ],
   "metadata": {
    "collapsed": false
   }
  },
  {
   "cell_type": "code",
   "execution_count": 60,
   "outputs": [
    {
     "name": "stdout",
     "output_type": "stream",
     "text": [
      "6 5\n"
     ]
    }
   ],
   "source": [
    "# 여러 개의 값을 할당하고 싶으면\n",
    "# (x, y, z) = (5, 6, 7) or\n",
    "x, y, z = 5, 6, 7\n",
    "# tuple 간의 값을 바꾸고 싶으면 이렇게\n",
    "# 자바처럼 귀찮게 안 바꿔도 된다.\n",
    "x, y = y, x\n",
    "print(x, y)"
   ],
   "metadata": {
    "collapsed": false
   }
  },
  {
   "cell_type": "code",
   "execution_count": 6,
   "outputs": [
    {
     "data": {
      "text/plain": "[3, 5]"
     },
     "execution_count": 6,
     "metadata": {},
     "output_type": "execute_result"
    }
   ],
   "source": [
    "l = [1,2,3,4,5,6,7]\n",
    "# stepside로 뽑는 것도 뭐 이렇게\n",
    "l[2:6:2]"
   ],
   "metadata": {
    "collapsed": false
   }
  },
  {
   "cell_type": "code",
   "execution_count": 67,
   "outputs": [
    {
     "name": "stdout",
     "output_type": "stream",
     "text": [
      "['banana', 'carrot', 'mango']\n",
      "['banana', 'carrot', 'mango']\n",
      "['mango', 'carrot', 'banana']\n",
      "['mango', 'banana']\n"
     ]
    }
   ],
   "source": [
    "# 처음, 끝을 생략하고 stepside만 넣은 거\n",
    "print(shoplist)\n",
    "print(shoplist[::1])\n",
    "print(shoplist[::-1])\n",
    "print(shoplist[::-2])"
   ],
   "metadata": {
    "collapsed": false
   }
  },
  {
   "cell_type": "code",
   "execution_count": 68,
   "outputs": [
    {
     "data": {
      "text/plain": "'suez'"
     },
     "execution_count": 68,
     "metadata": {},
     "output_type": "execute_result"
    }
   ],
   "source": [
    "# 문자열 피곤하게 뒤집던 거 간편하게\n",
    "# 왜냐면 str도 sequence의 일부거든.\n",
    "# sequence가 뭐냐면 string, list, tuple 같은 거.\n",
    "'zeus'[::-1]"
   ],
   "metadata": {
    "collapsed": false
   }
  },
  {
   "cell_type": "code",
   "execution_count": 8,
   "outputs": [],
   "source": [
    "regions = [\n",
    "    ('Northeast', 55.3),('Midwest', 66.9),\n",
    "    ('South', 114.6),('West', 71.9),\n",
    "]"
   ],
   "metadata": {
    "collapsed": false
   }
  },
  {
   "cell_type": "code",
   "execution_count": 9,
   "outputs": [
    {
     "data": {
      "text/plain": "['P', 'y', 't', 'h', 'o', 'n']"
     },
     "execution_count": 9,
     "metadata": {},
     "output_type": "execute_result"
    }
   ],
   "source": [
    "list(('a', 'b'))\n",
    "list('Python')\n",
    "'P y t h o n'.split()"
   ],
   "metadata": {
    "collapsed": false
   }
  },
  {
   "cell_type": "code",
   "execution_count": 10,
   "outputs": [
    {
     "name": "stdout",
     "output_type": "stream",
     "text": [
      "Simple Assignment\n",
      "shoplist is ['mango', 'carrot', 'banana']\n",
      "mylist is ['mango', 'carrot', 'banana']\n",
      "Copy by making a full slice\n",
      "shoplist is ['mango', 'carrot', 'banana']\n",
      "mylist is ['carrot', 'banana']\n"
     ]
    }
   ],
   "source": [
    "print('Simple Assignment')\n",
    "shoplist = ['apple', 'mango', 'carrot', 'banana']\n",
    "# 그냥 참조하기만 하는거다\n",
    "mylist = shoplist\n",
    "# apple 날리려고 하는데 shoplist도 날아간다\n",
    "del mylist[0]\n",
    "print('shoplist is', shoplist)\n",
    "print('mylist is', mylist)\n",
    "\n",
    "print('Copy by making a full slice')\n",
    "# full slicing을 해야 copy가 된다\n",
    "mylist = shoplist[:]\n",
    "\n",
    "del mylist[0]\n",
    "print('shoplist is', shoplist)\n",
    "print('mylist is', mylist)"
   ],
   "metadata": {
    "collapsed": false
   }
  },
  {
   "cell_type": "code",
   "execution_count": 11,
   "outputs": [],
   "source": [
    "x = [1, 2, 3, 4]\n",
    "y = x\n",
    "z = x[:]\n",
    "x.append(5)\n",
    "y\n",
    "Out[6]: [1, 2, 3, 4, 5]\n",
    "w = y.copy()\n",
    "del y[0]"
   ],
   "metadata": {
    "collapsed": false
   }
  },
  {
   "cell_type": "code",
   "execution_count": null,
   "outputs": [],
   "source": [],
   "metadata": {
    "collapsed": false
   }
  }
 ],
 "metadata": {
  "kernelspec": {
   "display_name": "Python 3",
   "language": "python",
   "name": "python3"
  },
  "language_info": {
   "codemirror_mode": {
    "name": "ipython",
    "version": 2
   },
   "file_extension": ".py",
   "mimetype": "text/x-python",
   "name": "python",
   "nbconvert_exporter": "python",
   "pygments_lexer": "ipython2",
   "version": "2.7.6"
  }
 },
 "nbformat": 4,
 "nbformat_minor": 0
}
