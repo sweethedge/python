{
 "cells": [
  {
   "cell_type": "code",
   "execution_count": 9,
   "metadata": {
    "collapsed": true
   },
   "outputs": [
    {
     "data": {
      "text/plain": "4"
     },
     "execution_count": 9,
     "metadata": {},
     "output_type": "execute_result"
    }
   ],
   "source": [
    "import time\n",
    "\n",
    "\n",
    "class Calculator:\n",
    "    def __init__(self):\n",
    "        self.result = 0\n",
    "\n",
    "    def add(self, num):\n",
    "        self.result += num\n",
    "        return self.result\n",
    "\n",
    "    def sub(self, num):\n",
    "        self.result -= num\n",
    "        return self.result\n",
    "\n",
    "cal1 = Calculator()\n",
    "cal2 = Calculator()\n",
    "cal1.add(3)\n",
    "cal1.add(4)\n",
    "cal1.sub(3)"
   ]
  },
  {
   "cell_type": "code",
   "execution_count": 10,
   "outputs": [
    {
     "name": "stdout",
     "output_type": "stream",
     "text": [
      "6\n",
      "2\n",
      "8\n",
      "2.0\n",
      "16\n",
      "0\n"
     ]
    }
   ],
   "source": [
    "class FourCal:\n",
    "    # 자바이든 파이썬이든 이 짓을 왜 했냐면 객체에 초깃값을 넣어주려고.\n",
    "    def __init__(self, first, second):\n",
    "        self.first = first\n",
    "        self.second = second\n",
    "\n",
    "    def setdata(self, first, second):\n",
    "        self.first = first\n",
    "        self.second = second\n",
    "\n",
    "    def add(self):\n",
    "        result = self.first + self.second\n",
    "        return result\n",
    "\n",
    "    def mul(self):\n",
    "        result = self.first * self.second\n",
    "        return result\n",
    "\n",
    "    def sub(self):\n",
    "        result = self.first - self.second\n",
    "        return result\n",
    "\n",
    "    def div(self):\n",
    "        result = self.first / self.second\n",
    "        return result\n",
    "\n",
    "# 상속\n",
    "class MoreFourCal(FourCal):\n",
    "    def pow(self):\n",
    "        result = self.first ** self.second\n",
    "        return result\n",
    "\n",
    "class SafeFourCal(FourCal):\n",
    "    # superclass의 div 메서드를 또 써서 내용을 조금 바꿨다고. 이게 메서드 오버라이딩\n",
    "    def div(self):\n",
    "        if self.second == 0:\n",
    "            return 0\n",
    "        else:\n",
    "            return self.first / self.second\n",
    "\n",
    "a = MoreFourCal(4,2)\n",
    "print(a.add())\n",
    "print(a.sub())\n",
    "print(a.mul())\n",
    "print(a.div())\n",
    "print(a.pow())\n",
    "a = SafeFourCal(5, 0)\n",
    "print(a.div())"
   ],
   "metadata": {
    "collapsed": false
   }
  },
  {
   "cell_type": "code",
   "execution_count": 11,
   "outputs": [
    {
     "name": "stdout",
     "output_type": "stream",
     "text": [
      "박\n"
     ]
    }
   ],
   "source": [
    "# 클래스 변수라는 건데 그런게 있나보다 하면 된다.\n",
    "class Family:\n",
    "    lastname = \"김\"\n",
    "\n",
    "Family.lastname = \"박\"\n",
    "print(Family.lastname)"
   ],
   "metadata": {
    "collapsed": false
   }
  },
  {
   "cell_type": "code",
   "execution_count": 12,
   "outputs": [
    {
     "data": {
      "text/plain": "-1"
     },
     "execution_count": 12,
     "metadata": {},
     "output_type": "execute_result"
    }
   ],
   "source": [
    "# 니가 맨날 보는 그 import\n",
    "import mod1\n",
    "\n",
    "mod1.sub(3,4)"
   ],
   "metadata": {
    "collapsed": false
   }
  },
  {
   "cell_type": "code",
   "execution_count": 13,
   "outputs": [
    {
     "data": {
      "text/plain": "7"
     },
     "execution_count": 13,
     "metadata": {},
     "output_type": "execute_result"
    }
   ],
   "source": [
    "# from matplotlib import pyplot as plt\n",
    "# 뭐시기.어쩌구에서 어쩌구만 쓰고 싶으면 이렇게 import\n",
    "from mod1 import add\n",
    "add(3,4)"
   ],
   "metadata": {
    "collapsed": false
   }
  },
  {
   "cell_type": "code",
   "execution_count": 14,
   "outputs": [
    {
     "name": "stdout",
     "output_type": "stream",
     "text": [
      "3.141592\n"
     ]
    },
    {
     "data": {
      "text/plain": "7.141592"
     },
     "execution_count": 14,
     "metadata": {},
     "output_type": "execute_result"
    }
   ],
   "source": [
    "import mod2\n",
    "print(mod2.PI)\n",
    "\n",
    "a = mod2.Math\n",
    "mod2.add(mod2.PI,4)"
   ],
   "metadata": {
    "collapsed": false
   }
  },
  {
   "cell_type": "code",
   "execution_count": 16,
   "outputs": [],
   "source": [
    "# 예외 처리\n",
    "# f = open('asdf')\n",
    "# 4 / 0\n",
    "a = [1,2,3]\n",
    "# a[3]"
   ],
   "metadata": {
    "collapsed": false
   }
  },
  {
   "cell_type": "code",
   "execution_count": 17,
   "outputs": [
    {
     "name": "stdout",
     "output_type": "stream",
     "text": [
      "division by zero\n",
      "list index out of range\n"
     ]
    }
   ],
   "source": [
    "# 파이참에서는 Ctrl + Alt + T\n",
    "try:\n",
    "    4 / 0\n",
    "except ZeroDivisionError as e:\n",
    "    print(e)\n",
    "\n",
    "try:\n",
    "    a[3]\n",
    "except IndexError as e:\n",
    "    print(e)"
   ],
   "metadata": {
    "collapsed": false
   }
  },
  {
   "cell_type": "code",
   "execution_count": 23,
   "outputs": [
    {
     "name": "stdout",
     "output_type": "stream",
     "text": [
      "Very Fast\n"
     ]
    }
   ],
   "source": [
    "class Bird:\n",
    "    def fly(self):\n",
    "        # 구현을 안 했으면 NotImplementedError를 띄워 달라.\n",
    "        # raise NotImplementedError\n",
    "        print(\"Very Fast\")\n",
    "\n",
    "class Eagle(Bird):\n",
    "    pass\n",
    "\n",
    "eagle = Eagle()\n",
    "eagle.fly()"
   ],
   "metadata": {
    "collapsed": false
   }
  },
  {
   "cell_type": "code",
   "execution_count": 28,
   "outputs": [
    {
     "name": "stdout",
     "output_type": "stream",
     "text": [
      "천사\n",
      "바보라는 닉네임을 쓰면 MyError를 띄우도록 say_nick 함수를 짜 뒀다. 그 에러가 뜨면 except를 통해 여기로 흐르게 됨\n"
     ]
    }
   ],
   "source": [
    "class MyError(Exception):\n",
    "    pass\n",
    "\n",
    "def say_nick(nick):\n",
    "    if nick == '바보':\n",
    "        raise MyError()\n",
    "    print(nick)\n",
    "\n",
    "\n",
    "try:\n",
    "    say_nick(\"천사\")\n",
    "    say_nick(\"바보\")\n",
    "except MyError:\n",
    "    print('바보라는 닉네임을 쓰면 MyError를 띄우도록 say_nick 함수를 짜 뒀다. 그 에러가 뜨면 except를 통해 여기로 흐르게 됨')\n"
   ],
   "metadata": {
    "collapsed": false
   }
  },
  {
   "cell_type": "code",
   "execution_count": 57,
   "outputs": [
    {
     "name": "stdout",
     "output_type": "stream",
     "text": [
      "**enumerate: 0 body\n",
      "**enumerate: 1 foo\n",
      "**enumerate: 2 bar\n"
     ]
    },
    {
     "data": {
      "text/plain": "(1, 1)"
     },
     "execution_count": 57,
     "metadata": {},
     "output_type": "execute_result"
    }
   ],
   "source": [
    "all([1,2,3]) # true\n",
    "all([1,2,3,0]) # false\n",
    "any([1,2,3,0]) # true\n",
    "any([0, \"\"]) # false\n",
    "dir([1,2,3]) # ??\n",
    "dir({'1':'a'}) # ??\n",
    "divmod(7, 3) # (몫, 나머지)\n",
    "# enumerate(list, tuple, str) -> index를 포함하는 enumerate로 반환.\n",
    "# type이 enumerate\n",
    "for i, name in enumerate(['body', 'foo', 'bar']):\n",
    "    print('**enumerate:', i , name)\n",
    "    '''\n",
    "    0 body\n",
    "    1 foo\n",
    "    2 bar\n",
    "    '''\n",
    "eval('1+2')\n",
    "eval(\"'hi' + 'a'\")\n",
    "eval('divmod(4,3)')"
   ],
   "metadata": {
    "collapsed": false
   }
  },
  {
   "cell_type": "code",
   "execution_count": 60,
   "outputs": [
    {
     "data": {
      "text/plain": "['e', 'o', 'r', 'z']"
     },
     "execution_count": 60,
     "metadata": {},
     "output_type": "execute_result"
    }
   ],
   "source": [
    "sorted([3,1,2])\n",
    "sorted('zero')\n",
    "# sort / sorted\n",
    "# sort 하면 그 list를 정렬을 해 주고, sorted하면 그 원본은 그대로 둔다."
   ],
   "metadata": {
    "collapsed": false
   }
  },
  {
   "cell_type": "code",
   "execution_count": 64,
   "outputs": [
    {
     "data": {
      "text/plain": "[('a', 'd'), ('b', 'e'), ('c', 'f')]"
     },
     "execution_count": 64,
     "metadata": {},
     "output_type": "execute_result"
    }
   ],
   "source": [
    "list(zip([1,2,3], [4,5,6])) # [(1, 4), (2, 5), (3, 6)]\n",
    "list(zip('abc', 'def')) # ('a', 'd'), ('b', 'e'), ('c', 'f')"
   ],
   "metadata": {
    "collapsed": false
   }
  },
  {
   "cell_type": "code",
   "execution_count": 66,
   "outputs": [],
   "source": [
    "import pickle\n",
    "f = open('test.txt', 'wb')\n",
    "data = {1: 'python', 2: 'yoo need'}\n",
    "pickle.dump(data, f)\n",
    "f.close()"
   ],
   "metadata": {
    "collapsed": false
   }
  },
  {
   "cell_type": "code",
   "execution_count": 69,
   "outputs": [
    {
     "name": "stdout",
     "output_type": "stream",
     "text": [
      "{1: 'python', 2: 'yoo need'}\n"
     ]
    }
   ],
   "source": [
    "f = open('test.txt', 'rb')\n",
    "data = pickle.load(f)\n",
    "print(data)"
   ],
   "metadata": {
    "collapsed": false
   }
  },
  {
   "cell_type": "code",
   "execution_count": 78,
   "outputs": [
    {
     "data": {
      "text/plain": "'Tue Dec 27 21:20:03 2022'"
     },
     "execution_count": 78,
     "metadata": {},
     "output_type": "execute_result"
    }
   ],
   "source": [
    "import time\n",
    "time.localtime()\n",
    "time.ctime()"
   ],
   "metadata": {
    "collapsed": false
   }
  },
  {
   "cell_type": "code",
   "execution_count": 95,
   "outputs": [
    {
     "data": {
      "text/plain": "1"
     },
     "execution_count": 95,
     "metadata": {},
     "output_type": "execute_result"
    }
   ],
   "source": [
    "import random\n",
    "random.random()\n",
    "random.randint(0, 10)"
   ],
   "metadata": {
    "collapsed": false
   }
  }
 ],
 "metadata": {
  "kernelspec": {
   "display_name": "Python 3",
   "language": "python",
   "name": "python3"
  },
  "language_info": {
   "codemirror_mode": {
    "name": "ipython",
    "version": 2
   },
   "file_extension": ".py",
   "mimetype": "text/x-python",
   "name": "python",
   "nbconvert_exporter": "python",
   "pygments_lexer": "ipython2",
   "version": "2.7.6"
  }
 },
 "nbformat": 4,
 "nbformat_minor": 0
}
