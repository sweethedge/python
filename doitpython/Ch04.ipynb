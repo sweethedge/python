{
 "cells": [
  {
   "cell_type": "code",
   "execution_count": 5,
   "metadata": {
    "collapsed": true
   },
   "outputs": [
    {
     "data": {
      "text/plain": "55"
     },
     "execution_count": 5,
     "metadata": {},
     "output_type": "execute_result"
    }
   ],
   "source": [
    "# 여러개의 변수를 받고 싶으면 *args\n",
    "def add_many(*args):\n",
    "    result = 0\n",
    "    for i in args:\n",
    "        result += i\n",
    "    return result\n",
    "\n",
    "add_many(1,2,3,4,5,6,7,8,9,10)"
   ]
  },
  {
   "cell_type": "code",
   "execution_count": 9,
   "outputs": [
    {
     "data": {
      "text/plain": "120"
     },
     "execution_count": 9,
     "metadata": {},
     "output_type": "execute_result"
    }
   ],
   "source": [
    "# 일반 매개변수와 키워드 파라미터를 혼용해서 쓰셔도 된다.\n",
    "def add_mul(choice, *args):\n",
    "    if choice == \"add\":\n",
    "        result = 0\n",
    "        for i in args:\n",
    "            result += i\n",
    "    elif choice == \"mul\":\n",
    "        result = 1\n",
    "        for i in args:\n",
    "            result *= i\n",
    "    return result\n",
    "\n",
    "add_mul('mul', 1,2,3,4,5)"
   ],
   "metadata": {
    "collapsed": false
   }
  },
  {
   "cell_type": "code",
   "execution_count": 1,
   "outputs": [
    {
     "name": "stdout",
     "output_type": "stream",
     "text": [
      "{'a': 1}\n",
      "{'name': 'foo', 'age': 3}\n"
     ]
    }
   ],
   "source": [
    "# dictionary를 만들고 싶으면 **kwargs\n",
    "def print_kwargs(**kwargs):\n",
    "    print(kwargs)\n",
    "\n",
    "print_kwargs(a=1)\n",
    "print_kwargs(name='foo', age=3)"
   ],
   "metadata": {
    "collapsed": false
   }
  },
  {
   "cell_type": "code",
   "execution_count": 6,
   "outputs": [
    {
     "data": {
      "text/plain": "(7, 10)"
     },
     "execution_count": 6,
     "metadata": {},
     "output_type": "execute_result"
    }
   ],
   "source": [
    "# 값 두 개를 리턴하면 알아서 tuple로 리턴해 준다.\n",
    "def add_and_mul(a,b):\n",
    "    return a+b, a*b\n",
    "    return asdfn # 이렇게 쓰면 착해서 에러는 안 띄워주는데 return을 보면 바로 빠져나가서 그렇다.\n",
    "\n",
    "add_and_mul(2, 5)"
   ],
   "metadata": {
    "collapsed": false,
    "pycharm": {
     "name": "#%%ㄷ\n"
    }
   }
  },
  {
   "cell_type": "code",
   "execution_count": 8,
   "outputs": [
    {
     "name": "stdout",
     "output_type": "stream",
     "text": [
      "my name is Jacob\n",
      "my age is 20\n",
      "I'm a woman.\n"
     ]
    }
   ],
   "source": [
    "# \"디폴트가 아닌 매개변수가 디폴트 매개변수 뒤에 옵니다\"\n",
    "# def say_myself(name, man=True, age):\n",
    "def say_myself(name, age, man=True):\n",
    "    print('my name is {}'.format(name))\n",
    "    print('my age is {}'.format(age))\n",
    "    if man:\n",
    "        print(\"I'm a man.\")\n",
    "    else:\n",
    "        print(\"I'm a woman.\")\n",
    "\n",
    "say_myself(\"Jacob\", 20, False)"
   ],
   "metadata": {
    "collapsed": false
   }
  },
  {
   "cell_type": "code",
   "execution_count": 15,
   "outputs": [
    {
     "name": "stdout",
     "output_type": "stream",
     "text": [
      "7\n"
     ]
    }
   ],
   "source": [
    "# lambda\n",
    "add = lambda a, b: a+b\n",
    "result = add(3, 4)\n",
    "print(result)"
   ],
   "metadata": {
    "collapsed": false
   }
  },
  {
   "cell_type": "code",
   "execution_count": 34,
   "outputs": [],
   "source": [
    "f = open('newfile.txt', 'w')\n",
    "for i in range(1, 11):\n",
    "    f.write(\"{}번째 줄입니다. \\n\".format(i))\n",
    "f.close()"
   ],
   "metadata": {
    "collapsed": false
   }
  },
  {
   "cell_type": "code",
   "execution_count": 35,
   "outputs": [
    {
     "name": "stdout",
     "output_type": "stream",
     "text": [
      "1번째 줄입니다. \n",
      "2번째 줄입니다. \n",
      "3번째 줄입니다. \n",
      "4번째 줄입니다. \n",
      "5번째 줄입니다. \n",
      "6번째 줄입니다. \n",
      "7번째 줄입니다. \n",
      "8번째 줄입니다. \n",
      "9번째 줄입니다. \n",
      "10번째 줄입니다. \n"
     ]
    }
   ],
   "source": [
    "f = open('newfile.txt')\n",
    "while True:\n",
    "    line = f.readline()\n",
    "    if not line: break\n",
    "    print(line, end='')\n",
    "f.close()\n"
   ],
   "metadata": {
    "collapsed": false
   }
  },
  {
   "cell_type": "code",
   "execution_count": 46,
   "outputs": [
    {
     "name": "stdout",
     "output_type": "stream",
     "text": [
      "1번째 줄입니다. \n",
      "2번째 줄입니다. \n",
      "3번째 줄입니다. \n",
      "4번째 줄입니다. \n",
      "5번째 줄입니다. \n",
      "6번째 줄입니다. \n",
      "7번째 줄입니다. \n",
      "8번째 줄입니다. \n",
      "9번째 줄입니다. \n",
      "10번째 줄입니다. \n"
     ]
    }
   ],
   "source": [
    "f = open('newfile.txt')\n",
    "lines = [print(line, end='') for line in f]"
   ],
   "metadata": {
    "collapsed": false
   }
  },
  {
   "cell_type": "code",
   "execution_count": 47,
   "outputs": [
    {
     "name": "stdout",
     "output_type": "stream",
     "text": [
      "1번째 줄입니다. \n",
      "2번째 줄입니다. \n",
      "3번째 줄입니다. \n",
      "4번째 줄입니다. \n",
      "5번째 줄입니다. \n",
      "6번째 줄입니다. \n",
      "7번째 줄입니다. \n",
      "8번째 줄입니다. \n",
      "9번째 줄입니다. \n",
      "10번째 줄입니다. \n",
      "\n"
     ]
    }
   ],
   "source": [
    "f = open('newfile.txt')\n",
    "data = f.read()\n",
    "print(data)"
   ],
   "metadata": {
    "collapsed": false
   }
  },
  {
   "cell_type": "code",
   "execution_count": 53,
   "outputs": [],
   "source": [
    "f = open('newfile.txt', 'a')\n",
    "for i in range(11,20):\n",
    "    data = '{}번째 줄입니다. \\n'.format(i)\n",
    "    f.write(data)\n",
    "f.close()"
   ],
   "metadata": {
    "collapsed": false
   }
  },
  {
   "cell_type": "code",
   "execution_count": 55,
   "outputs": [
    {
     "name": "stdout",
     "output_type": "stream",
     "text": [
      "1번째 줄입니다. \n",
      "2번째 줄입니다. \n",
      "3번째 줄입니다. \n",
      "4번째 줄입니다. \n",
      "5번째 줄입니다. \n",
      "6번째 줄입니다. \n",
      "7번째 줄입니다. \n",
      "8번째 줄입니다. \n",
      "9번째 줄입니다. \n",
      "10번째 줄입니다.\n",
      "11번째 줄입니다.\n",
      "12번째 줄입니다. \n",
      "13번째 줄입니다. \n",
      "14번째 줄입니다. \n",
      "15번째 줄입니다. \n",
      "16번째 줄입니다. \n",
      "17번째 줄입니다. \n",
      "18번째 줄입니다. \n",
      "19번째 줄입니다. \n",
      "\n"
     ]
    }
   ],
   "source": [
    "f = open('newfile.txt', 'self')\n",
    "data = f.read()\n",
    "print(data)"
   ],
   "metadata": {
    "collapsed": false
   }
  },
  {
   "cell_type": "code",
   "execution_count": null,
   "outputs": [],
   "source": [
    "with open('newfile.txt') as f:\n",
    "    data = f.read()\n",
    "print(data)"
   ],
   "metadata": {
    "collapsed": false,
    "pycharm": {
     "is_executing": true
    }
   }
  },
  {
   "cell_type": "code",
   "execution_count": 9,
   "outputs": [],
   "source": [
    "def is_odd(number):\n",
    "    if number % 2 == 1:\n",
    "        return True\n",
    "    else: return False"
   ],
   "metadata": {
    "collapsed": false
   }
  },
  {
   "cell_type": "code",
   "execution_count": 14,
   "outputs": [
    {
     "data": {
      "text/plain": "3.0"
     },
     "execution_count": 14,
     "metadata": {},
     "output_type": "execute_result"
    }
   ],
   "source": [
    "def avg_numbers(*args):\n",
    "    result = 0\n",
    "    for i in args:\n",
    "        result += i\n",
    "    return result / len(args)\n",
    "\n",
    "avg_numbers(1,2)\n",
    "avg_numbers(1,2,3,4,5)"
   ],
   "metadata": {
    "collapsed": false
   }
  },
  {
   "cell_type": "code",
   "execution_count": 17,
   "outputs": [
    {
     "name": "stdout",
     "output_type": "stream",
     "text": [
      "Total : 9\n"
     ]
    }
   ],
   "source": [
    "input1 = eval(input('Enter first num:'))\n",
    "input2 = eval(input('Enter 2nd num:'))\n",
    "total = input1 + input2\n",
    "print(\"Total : {}\".format(total))"
   ],
   "metadata": {
    "collapsed": false
   }
  },
  {
   "cell_type": "code",
   "execution_count": 27,
   "outputs": [
    {
     "name": "stdout",
     "output_type": "stream",
     "text": [
      "Life is too short\n"
     ]
    }
   ],
   "source": [
    "f1 = open('test.txt', 'w')\n",
    "f1.write('Life is too short')\n",
    "f1.close()\n",
    "\n",
    "f2 = open('test.txt')\n",
    "print(f2.read())"
   ],
   "metadata": {
    "collapsed": false
   }
  },
  {
   "cell_type": "code",
   "execution_count": 29,
   "outputs": [],
   "source": [
    "user_input = input(\"Enter something that you want:\")\n",
    "f = open('test.txt', 'a')\n",
    "f.write(user_input)\n",
    "f.write('\\n')\n",
    "f.close()"
   ],
   "metadata": {
    "collapsed": false
   }
  },
  {
   "cell_type": "code",
   "execution_count": 51,
   "outputs": [],
   "source": [
    "f = open('test.txt')\n",
    "body = f.read()\n",
    "body = body.replace('java', 'python')\n",
    "f = open('test.txt', 'w')\n",
    "f.write(body)\n",
    "f.close()"
   ],
   "metadata": {
    "collapsed": false
   }
  }
 ],
 "metadata": {
  "kernelspec": {
   "display_name": "Python 3 (ipykernel)",
   "language": "python",
   "name": "python3"
  },
  "language_info": {
   "codemirror_mode": {
    "name": "ipython",
    "version": 3
   },
   "file_extension": ".py",
   "mimetype": "text/x-python",
   "name": "python",
   "nbconvert_exporter": "python",
   "pygments_lexer": "ipython3",
   "version": "3.11.0"
  }
 },
 "nbformat": 4,
 "nbformat_minor": 1
}
