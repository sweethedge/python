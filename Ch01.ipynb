{
 "cells": [
  {
   "cell_type": "code",
   "execution_count": null,
   "metadata": {
    "collapsed": true
   },
   "outputs": [],
   "source": [
    "'Quote me on this'"
   ]
  },
  {
   "cell_type": "code",
   "execution_count": null,
   "outputs": [],
   "source": [
    "\"What's your name?\""
   ],
   "metadata": {
    "collapsed": false
   }
  },
  {
   "cell_type": "code",
   "execution_count": null,
   "outputs": [],
   "source": [
    "# 'What's your name?'"
   ],
   "metadata": {
    "collapsed": false
   }
  },
  {
   "cell_type": "code",
   "execution_count": null,
   "outputs": [],
   "source": [
    "x = '''This is the first line.\n",
    "This is the second line.\n",
    "\"what's your name?,\" I asked.\n",
    "He said \"Bond, James Bond.\"\n",
    "'''\n",
    "x"
   ],
   "metadata": {
    "collapsed": false
   }
  },
  {
   "cell_type": "code",
   "execution_count": null,
   "outputs": [],
   "source": [
    "print(x)"
   ],
   "metadata": {
    "collapsed": false
   }
  },
  {
   "cell_type": "code",
   "execution_count": null,
   "outputs": [],
   "source": [
    "y = 'This is the first line.' \\\n",
    "    'This is the second line.' \\\n",
    "    '굳이 triple quote를 안 써도 IDE가 알아서 백슬래시를 해주니까 ' \\\n",
    "    '걍 쓰셔도 된다.'\n",
    "y"
   ],
   "metadata": {
    "collapsed": false
   }
  },
  {
   "cell_type": "code",
   "execution_count": null,
   "outputs": [],
   "source": [
    "'good' + 'bye'"
   ],
   "metadata": {
    "collapsed": false
   }
  },
  {
   "cell_type": "code",
   "execution_count": null,
   "outputs": [],
   "source": [
    "'ha'*3"
   ],
   "metadata": {
    "collapsed": false
   }
  },
  {
   "cell_type": "code",
   "execution_count": null,
   "outputs": [],
   "source": [
    "('a' + 'b') * 3"
   ],
   "metadata": {
    "collapsed": false
   }
  },
  {
   "cell_type": "code",
   "execution_count": null,
   "outputs": [],
   "source": [
    "'a'*3+'b'*3"
   ],
   "metadata": {
    "collapsed": false
   }
  },
  {
   "cell_type": "code",
   "execution_count": null,
   "outputs": [],
   "source": [
    "# 자주 써먹으실 거다.\n",
    "eval('23')"
   ],
   "metadata": {
    "collapsed": false
   }
  },
  {
   "cell_type": "code",
   "execution_count": null,
   "outputs": [],
   "source": [
    "eval('23.5')"
   ],
   "metadata": {
    "collapsed": false
   }
  },
  {
   "cell_type": "code",
   "execution_count": null,
   "outputs": [],
   "source": [
    "x = 5\n",
    "eval('23 + (2 * x)')"
   ],
   "metadata": {
    "collapsed": false
   }
  },
  {
   "cell_type": "code",
   "execution_count": null,
   "outputs": [],
   "source": [
    "# eval ≒ exec\n",
    "# 다른거는 exec()는 출력만 해 준다.\n",
    "exec('x = 2')\n",
    "x"
   ],
   "metadata": {
    "collapsed": false
   }
  },
  {
   "cell_type": "code",
   "execution_count": null,
   "outputs": [],
   "source": [
    "exec ('y = 3')\n",
    "y"
   ],
   "metadata": {
    "collapsed": false
   }
  },
  {
   "cell_type": "code",
   "execution_count": null,
   "outputs": [],
   "source": [
    "eval('x+y')"
   ],
   "metadata": {
    "collapsed": false
   }
  },
  {
   "cell_type": "code",
   "execution_count": null,
   "outputs": [],
   "source": [
    "exec('x+y')"
   ],
   "metadata": {
    "collapsed": false
   }
  },
  {
   "cell_type": "code",
   "execution_count": null,
   "outputs": [],
   "source": [
    "str(5)"
   ],
   "metadata": {
    "collapsed": false
   }
  },
  {
   "cell_type": "code",
   "execution_count": null,
   "outputs": [],
   "source": [
    "str(5.)"
   ],
   "metadata": {
    "collapsed": false
   }
  },
  {
   "cell_type": "code",
   "execution_count": null,
   "outputs": [],
   "source": [
    "int(4.8)"
   ],
   "metadata": {
    "collapsed": false
   }
  },
  {
   "cell_type": "code",
   "execution_count": null,
   "outputs": [],
   "source": [
    "# round 그런 거 없이 소수점만 버린다.\n",
    "int(-4.8)"
   ],
   "metadata": {
    "collapsed": false
   }
  },
  {
   "cell_type": "code",
   "execution_count": null,
   "outputs": [],
   "source": [
    "Str1 = \"Python\"\n",
    "Str1.upper()\n",
    "Str1.lower()\n",
    "Str1.count('th')"
   ],
   "metadata": {
    "collapsed": false
   }
  },
  {
   "cell_type": "code",
   "execution_count": null,
   "outputs": [],
   "source": [
    "'coDE'.capitalize()"
   ],
   "metadata": {
    "collapsed": false
   }
  },
  {
   "cell_type": "code",
   "execution_count": null,
   "outputs": [],
   "source": [
    "'beN hur'.title()"
   ],
   "metadata": {
    "collapsed": false
   }
  },
  {
   "cell_type": "code",
   "execution_count": null,
   "outputs": [],
   "source": [
    "'ab                         '.strip()"
   ],
   "metadata": {
    "collapsed": false
   }
  },
  {
   "cell_type": "code",
   "execution_count": 1,
   "outputs": [
    {
     "name": "stdout",
     "output_type": "stream",
     "text": [
      "3\n"
     ]
    }
   ],
   "source": [
    "praise = 'Good Doggie'.upper()\n",
    "numberOfGees2 = praise.count('G')\n",
    "print(numberOfGees2)"
   ],
   "metadata": {
    "collapsed": false
   }
  },
  {
   "cell_type": "code",
   "execution_count": null,
   "outputs": [],
   "source": [
    "# 이 쪽이 조금 더 말이 되는 코드다. 임시로 쓸 변수를 줄이기도 하는 거고.\n",
    "numberOfGees = 'Good Doggie'.upper().count('G')\n",
    "print(numberOfGees)"
   ],
   "metadata": {
    "collapsed": false
   }
  },
  {
   "cell_type": "code",
   "execution_count": null,
   "outputs": [],
   "source": [
    "print('Python')\n",
    "print('Python'[1])\n",
    "str1 = 'Hello World!'\n",
    "print(str1.find('W'))\n",
    "print(str1.find('x'))\n",
    "print(str1.rfind('l'))"
   ],
   "metadata": {
    "collapsed": false
   }
  },
  {
   "cell_type": "code",
   "execution_count": 2,
   "outputs": [
    {
     "name": "stdout",
     "output_type": "stream",
     "text": [
      "yth\n",
      "spam & egg\n"
     ]
    }
   ],
   "source": [
    "print('Python'[-5:-2])\n",
    "str1 = 'spam & eggs'\n",
    "# 이렇게 치면 -1은 포함하지 말라는 얘기다.\n",
    "print(str1[0:-1])"
   ],
   "metadata": {
    "collapsed": false
   }
  },
  {
   "cell_type": "code",
   "execution_count": 1,
   "outputs": [
    {
     "name": "stdout",
     "output_type": "stream",
     "text": [
      "Python\n",
      "Python\n"
     ]
    }
   ],
   "source": [
    "print('Python')\n",
    "print('Python'[:])"
   ],
   "metadata": {
    "collapsed": false
   }
  },
  {
   "cell_type": "code",
   "execution_count": 5,
   "outputs": [
    {
     "name": "stdout",
     "output_type": "stream",
     "text": [
      "Python sep that you want to separate\n",
      "Pythonsepthatyouwanttoseparate\n",
      "Python   sep   that   you   want   to   separate\n"
     ]
    }
   ],
   "source": [
    "print('Python', 'sep', 'that', 'you', 'want', 'to', 'separate')\n",
    "print('Python', 'sep', 'that', 'you', 'want', 'to', 'separate', sep=\"\")\n",
    "print('Python', 'sep', 'that', 'you', 'want', 'to', 'separate', sep=\"   \")"
   ],
   "metadata": {
    "collapsed": false
   }
  },
  {
   "cell_type": "code",
   "execution_count": null,
   "outputs": [],
   "source": [
    "# 기본적으로는 end = \\n 인데, 바꿀 수도 있다.\n",
    "print('hello', end='\\t')\n",
    "print('world')"
   ],
   "metadata": {
    "collapsed": false
   }
  },
  {
   "cell_type": "code",
   "execution_count": 6,
   "outputs": [
    {
     "name": "stdout",
     "output_type": "stream",
     "text": [
      "20 was Swaroop years old when he wrote the book \n",
      "A Byte of Python\n",
      "Why is Swaroop playing with that Python?\n",
      "==================================================\n",
      "20 was Swaroop years old when he wrote the book \n",
      "A Byte of Python\n",
      "Why is Swaroop playing with that Python?\n"
     ]
    }
   ],
   "source": [
    "#.format()으로 좀 더 멋있게 print하기\n",
    "age = 20\n",
    "name = 'Swaroop'\n",
    "\n",
    "print('{0} was {1} years old when he wrote the book \\n'\n",
    "      'A Byte of Python'.format(age, name))\n",
    "print('Why is {0} playing with that Python?'.format(name))\n",
    "# Also note that the numbers in the specifications are optional\n",
    "print('==================================================')\n",
    "print('{} was {} years old when he wrote the book \\n'\n",
    "      'A Byte of Python'.format(age, name))\n",
    "print('Why is {} playing with that Python?'.format(name))"
   ],
   "metadata": {
    "collapsed": false
   }
  },
  {
   "cell_type": "code",
   "execution_count": 3,
   "outputs": [
    {
     "name": "stdout",
     "output_type": "stream",
     "text": [
      "0123456789012345678901234567\n",
      "Rank Player               HR\n",
      "  1  Barry Bonds         762\n",
      "  2  Hank Aaron          755\n"
     ]
    }
   ],
   "source": [
    "# ^ - 가운데 정렬, < - 왼쪽 정렬, > - 오른쪽 정렬\n",
    "# 5칸, 20칸, 3칸\n",
    "print('0123456789012345678901234567')\n",
    "print('{0:^5}{1:<20}{2:>3}'.format('Rank', \"Player\", 'HR')) # 앞의 012는 tuple 얘기하는 거임.\n",
    "print('{0:^5}{1:<20}{2:>3}'.format('1', \"Barry Bonds\", '762'))\n",
    "print('{0:^5}{1:<20}{2:>3}'.format('2', \"Hank Aaron\", '755'))"
   ],
   "metadata": {
    "collapsed": false
   }
  },
  {
   "cell_type": "code",
   "execution_count": 4,
   "outputs": [
    {
     "name": "stdout",
     "output_type": "stream",
     "text": [
      "   1234.57\n",
      "  1,234.57\n",
      "123,456.78%\n",
      "1,234.5678\n"
     ]
    }
   ],
   "source": [
    "print('{0:10.2f}'.format(1234.5678))\n",
    "print('{0:10,.2f}'.format(1234.5678))\n",
    "print('{0:10,.2%}'.format(1234.5678))\n",
    "print('{0:10,}'.format(1234.5678))"
   ],
   "metadata": {
    "collapsed": false
   }
  },
  {
   "cell_type": "code",
   "execution_count": 5,
   "outputs": [
    {
     "name": "stdout",
     "output_type": "stream",
     "text": [
      "___hello___\n",
      "Swaroop wrote A Byte of Python\n",
      "0.333\n",
      "0.333\n"
     ]
    }
   ],
   "source": [
    "# 'hello'를 11칸을 가운데 정렬로 찍는데 나머지는 언더바로 채워달라.\n",
    "print('{0:_^11}'.format('hello'))\n",
    "print('{name} wrote A {book}'.format(name = 'Swaroop', book = 'Byte of Python'))\n",
    "# 이 두 개가 달랐던 시절도 있었다고 하는데 옛날 얘기다.\n",
    "print('{0:.3f}'.format(1/3))\n",
    "print('{0:.3f}'.format(1.0/3))"
   ],
   "metadata": {
    "collapsed": false
   }
  },
  {
   "cell_type": "code",
   "execution_count": null,
   "outputs": [],
   "source": [
    "# 참고로 에러가 있으면 뒤부터는 툴팁이 실행이 잘 안되는 모양이다.\n",
    "# print('What's your name?')"
   ],
   "metadata": {
    "collapsed": false,
    "pycharm": {
     "is_executing": true
    }
   }
  },
  {
   "cell_type": "code",
   "execution_count": null,
   "outputs": [],
   "source": [
    "# Escape Sequence 쓰기. parsing 하다가 쓸 일이 있을 거다.\n",
    "print('What\\'s your name?')\n",
    "print(\"He said, \\\"Bond, James Bond.\\\"\")"
   ],
   "metadata": {
    "collapsed": false
   }
  },
  {
   "cell_type": "code",
   "execution_count": null,
   "outputs": [],
   "source": [
    "# IDE가 알아서 넣어 준다.\n",
    "print('A backslash at the end of the line ' \\\n",
    "    'indicated line continuation.')"
   ],
   "metadata": {
    "collapsed": false
   }
  },
  {
   "cell_type": "code",
   "execution_count": 6,
   "outputs": [
    {
     "name": "stdout",
     "output_type": "stream",
     "text": [
      "New lines are indicated by \n",
      ".\n",
      "New lines are indicated by \\n.\n"
     ]
    }
   ],
   "source": [
    "# raw-string. 앞에 r이나 R을 쓰면 Escape Sequences가 개무시된다.\n",
    "print('New lines are indicated by \\n.')\n",
    "print(r'New lines are indicated by \\n.')"
   ],
   "metadata": {
    "collapsed": false
   }
  },
  {
   "cell_type": "code",
   "execution_count": null,
   "outputs": [],
   "source": [
    "name = input('What is your name?')\n",
    "print(name)"
   ],
   "metadata": {
    "collapsed": false
   }
  },
  {
   "cell_type": "code",
   "execution_count": 7,
   "outputs": [
    {
     "name": "stdout",
     "output_type": "stream",
     "text": [
      "<class 'int'>\n"
     ]
    },
    {
     "data": {
      "text/plain": "1500"
     },
     "execution_count": 7,
     "metadata": {},
     "output_type": "execute_result"
    }
   ],
   "source": [
    "prompt = 'enter speed'\n",
    "speed = (int(input(prompt)))\n",
    "print((type(speed)))\n",
    "speed"
   ],
   "metadata": {
    "collapsed": false
   }
  },
  {
   "cell_type": "code",
   "execution_count": 8,
   "outputs": [
    {
     "name": "stdout",
     "output_type": "stream",
     "text": [
      "Last name: Bond\n",
      "First name: James\n"
     ]
    }
   ],
   "source": [
    "fullName = input('Enter a full name: ')\n",
    "n = fullName.rfind(' ')\n",
    "print('Last name:', fullName[n+1:])\n",
    "print('First name:', fullName[:n])"
   ],
   "metadata": {
    "collapsed": false
   }
  },
  {
   "cell_type": "code",
   "execution_count": 9,
   "outputs": [
    {
     "name": "stdout",
     "output_type": "stream",
     "text": [
      "Value is  5\n"
     ]
    }
   ],
   "source": [
    "i = 5\n",
    "print('Value is ', i)"
   ],
   "metadata": {
    "collapsed": false
   }
  },
  {
   "cell_type": "code",
   "execution_count": 10,
   "outputs": [
    {
     "data": {
      "text/plain": "5.0"
     },
     "execution_count": 10,
     "metadata": {},
     "output_type": "execute_result"
    }
   ],
   "source": [
    "# 나눗셈\n",
    "15 / 3"
   ],
   "metadata": {
    "collapsed": false
   }
  },
  {
   "cell_type": "code",
   "execution_count": 11,
   "outputs": [
    {
     "data": {
      "text/plain": "5"
     },
     "execution_count": 11,
     "metadata": {},
     "output_type": "execute_result"
    }
   ],
   "source": [
    "# 몫\n",
    "15 // 3"
   ],
   "metadata": {
    "collapsed": false
   }
  },
  {
   "cell_type": "code",
   "execution_count": 12,
   "outputs": [
    {
     "data": {
      "text/plain": "1.5"
     },
     "execution_count": 12,
     "metadata": {},
     "output_type": "execute_result"
    }
   ],
   "source": [
    "# -25.5 = 2.25 * (-12) + 1.5\n",
    "-25.5 % 2.25"
   ],
   "metadata": {
    "collapsed": false
   }
  },
  {
   "cell_type": "code",
   "execution_count": null,
   "outputs": [],
   "source": [
    "# 시프트 연산. 2^n 제곱을 구하고 싶으면 이 쪽이 편할 거다.\n",
    "2 << 2"
   ],
   "metadata": {
    "collapsed": false
   }
  },
  {
   "cell_type": "code",
   "execution_count": null,
   "outputs": [],
   "source": [
    "# 비트 연산. AND, OR, XOR, Invert 연산.\n",
    "# 101 & 011 => 001\n",
    "print(5 & 3)\n",
    "# 101 | 011 => 111\n",
    "print(5 | 3)\n",
    "# 101 ^ 011 => 110\n",
    "print(5 ^ 3)\n",
    "# Bit Inversion. ~x + 1 = -x\n",
    "print(~5 + 1)"
   ],
   "metadata": {
    "collapsed": false
   }
  },
  {
   "cell_type": "code",
   "execution_count": 13,
   "outputs": [
    {
     "data": {
      "text/plain": "True"
     },
     "execution_count": 13,
     "metadata": {},
     "output_type": "execute_result"
    }
   ],
   "source": [
    "3 < 5 < 7\n",
    "# 실제 컴퓨터 입장에서는 따로 계산하게 된다.\n",
    "3 < 9 > 8\n",
    "3 < 9 & 9 > 8"
   ],
   "metadata": {
    "collapsed": false
   }
  },
  {
   "cell_type": "code",
   "execution_count": null,
   "outputs": [],
   "source": [
    "l = 10\n",
    "m = 5\n",
    "n = 0\n",
    "# short-circuit evaluation\n",
    "# and라면 False가 나왔을 때 뒤를 연산하지 않는다.\n",
    "(n != 0) and (l == ( m / n))"
   ],
   "metadata": {
    "collapsed": false
   }
  },
  {
   "cell_type": "code",
   "execution_count": 14,
   "outputs": [
    {
     "name": "stdout",
     "output_type": "stream",
     "text": [
      "5\n"
     ]
    }
   ],
   "source": [
    "a = 2\n",
    "a += 3\n",
    "print(a)"
   ],
   "metadata": {
    "collapsed": false
   }
  },
  {
   "cell_type": "code",
   "execution_count": null,
   "outputs": [],
   "source": [
    "a = 2\n",
    "# statement\n",
    "print(a)\n",
    "x = 7\n",
    "# expression\n",
    "17+x"
   ],
   "metadata": {
    "collapsed": false
   }
  },
  {
   "cell_type": "code",
   "execution_count": null,
   "outputs": [],
   "source": [
    "# if-else 조건문\n",
    "number = 350\n",
    "guess = int(input('알아맞혀 보십쇼: '))\n",
    "\n",
    "if guess == number:\n",
    "    print('어케 맞춤?')\n",
    "    print('경품은 없음다')\n",
    "else:\n",
    "    if guess < number:\n",
    "        print('좀만 더 크게 쓰십쇼')\n",
    "    else:\n",
    "        print('그것보단 작슴다')\n",
    "print('Done')"
   ],
   "metadata": {
    "collapsed": false
   }
  },
  {
   "cell_type": "code",
   "execution_count": null,
   "outputs": [],
   "source": [
    "# elif\n",
    "number = 350\n",
    "guess = int(input('알아맞혀 보십쇼: '))\n",
    "\n",
    "if guess == number:\n",
    "    print('어케 맞춤?')\n",
    "    print('경품은 없음다')\n",
    "elif guess < number:\n",
    "        print('좀만 더 크게 쓰십쇼')\n",
    "else:\n",
    "    print('그것보단 작슴다. 좀 만 더 작게 쓰십쇼')\n",
    "print('Done')"
   ],
   "metadata": {
    "collapsed": false
   }
  },
  {
   "cell_type": "code",
   "execution_count": 15,
   "outputs": [
    {
     "name": "stdout",
     "output_type": "stream",
     "text": [
      "제일 큰 수는 12614 임다\n"
     ]
    }
   ],
   "source": [
    "# eval을 넣으면 알아서 형 변환이 될 거다. 아까는 int 고정이었거든.\n",
    "# else를 쓸 이유가 없으면 if만 쓰셔도 된다.\n",
    "\n",
    "firstNumber = eval(input('첫 번째 수 하나 넣어 보십쇼: '))\n",
    "secondNumber = eval(input('두 번째 수 하나 넣어 보십쇼: '))\n",
    "thirdNumber = eval(input('세 번째 수 하나 넣어 보십쇼: '))\n",
    "\n",
    "largest = firstNumber\n",
    "if secondNumber > largest:\n",
    "    largest = secondNumber\n",
    "if thirdNumber > largest:\n",
    "    largest = thirdNumber\n",
    "\n",
    "print('제일 큰 수는', str(largest), '임다')"
   ],
   "metadata": {
    "collapsed": false
   }
  },
  {
   "cell_type": "code",
   "execution_count": null,
   "outputs": [],
   "source": [
    "number = 350\n",
    "running = True\n",
    "\n",
    "while running:\n",
    "    guess = int(input('알아맞혀 보십쇼: '))\n",
    "    if guess == number:\n",
    "        print('어케 맞춤?')\n",
    "        print('경품은 없음다')\n",
    "        running = False # 루프는 이렇게 세운다\n",
    "    elif guess < number:\n",
    "        print('좀만 더 크게 쓰십쇼')\n",
    "    else:\n",
    "        print('그것보단 작슴다. 좀 만 더 작게 쓰십쇼')\n",
    "else:\n",
    "    print('루프 빠져나옴')\n",
    "print('Done')"
   ],
   "metadata": {
    "collapsed": false
   }
  },
  {
   "cell_type": "code",
   "execution_count": null,
   "outputs": [],
   "source": [
    "count = 0\n",
    "total = 0\n",
    "\n",
    "print('세우려면 -1을 입력하십쇼')\n",
    "num = int(input('양수를 입력하십쇼: '))\n",
    "# 이렇게 min이나 max를 변수로 쓰는거는 바람직한 일은 아니다.\n",
    "min = num\n",
    "max = num\n",
    "while num != -1:\n",
    "    count += 1\n",
    "    total += num\n",
    "    if num < min:\n",
    "        min = num\n",
    "    if num > max:\n",
    "        max = num\n",
    "    num = int(input('양수를 입력하십쇼: '))\n",
    "\n",
    "if count > 0:\n",
    "    print('최소' ,min)\n",
    "    print('최대', max)\n",
    "    print('평균', total / count)\n",
    "else:\n",
    "    print('양수가 안 들어옴')"
   ],
   "metadata": {
    "collapsed": false
   }
  },
  {
   "cell_type": "code",
   "execution_count": null,
   "outputs": [],
   "source": [
    "range(1, 5)"
   ],
   "metadata": {
    "collapsed": false
   }
  },
  {
   "cell_type": "code",
   "execution_count": null,
   "outputs": [],
   "source": [
    "list(range(1, 5))"
   ],
   "metadata": {
    "collapsed": false
   }
  },
  {
   "cell_type": "code",
   "execution_count": 16,
   "outputs": [
    {
     "name": "stdout",
     "output_type": "stream",
     "text": [
      "1 3 5 7 9 "
     ]
    }
   ],
   "source": [
    "for i in range(1,10,2):\n",
    "    print(i, end=' ')"
   ],
   "metadata": {
    "collapsed": false
   }
  },
  {
   "cell_type": "code",
   "execution_count": 20,
   "outputs": [
    {
     "name": "stdout",
     "output_type": "stream",
     "text": [
      "넣은 숫자:  5\n",
      "*\n",
      "**\n",
      "***\n",
      "****\n",
      "*****\n"
     ]
    }
   ],
   "source": [
    "# 별찍기\n",
    "numberOfRows = int(input('1에서 20까지의 숫자를 넣어보십쇼: '))\n",
    "\n",
    "print('넣은 숫자: ', numberOfRows)\n",
    "for i in range(numberOfRows):\n",
    "    for j in range(i + 1):\n",
    "        print('*', end='')\n",
    "    print()"
   ],
   "metadata": {
    "collapsed": false
   }
  },
  {
   "cell_type": "code",
   "execution_count": null,
   "outputs": [],
   "source": [
    "word = input('단어 하나 쳐 보십쇼: ')\n",
    "reversedWord = ''\n",
    "\n",
    "for ch in word:\n",
    "    print('ch가 뭐냐면 ' + ch)\n",
    "    reversedWord = ch + reversedWord\n",
    "print('뒤집으면 ' + reversedWord + '임다')"
   ],
   "metadata": {
    "collapsed": false
   }
  },
  {
   "cell_type": "code",
   "execution_count": 21,
   "outputs": [
    {
     "name": "stdout",
     "output_type": "stream",
     "text": [
      "James Madison\n",
      "James Monroe\n",
      "James K. Polk\n",
      "James Buchanan\n",
      "James A. Garfield\n"
     ]
    }
   ],
   "source": [
    "firstName = input('성 입력하십쇼: ')\n",
    "# 디폴트 False를 하나 넣어준다\n",
    "foundFlag = False\n",
    "# 파일 열어서\n",
    "infile = open('USPresidents.txt', 'r')\n",
    "# for 문 도는데 니가 집어 넣은 변수로 시작하는 이름과 공백이 있으면은\n",
    "# 그거 뒤의 오른쪽 whitespace(줄바꿈, 띄어쓰기, 탭..)는 떼버리고 출력한 다음 플래그를 True로 해라.\n",
    "# if 문에 안 들어왔으면 fountFlag 그대로 출력\n",
    "for line in infile:\n",
    "    if line.startswith(firstName + ' '):\n",
    "        print(line.rstrip())\n",
    "        foundFlag = True\n",
    "infile.close()\n",
    "# foundFlag가 false면\n",
    "if not foundFlag:\n",
    "    # 이걸 출력해 주십쇼\n",
    "    print('그런 대통령 없음다', firstName + '.')"
   ],
   "metadata": {
    "collapsed": false
   }
  },
  {
   "cell_type": "code",
   "execution_count": 22,
   "outputs": [
    {
     "name": "stdout",
     "output_type": "stream",
     "text": [
      "Barack Obama\n"
     ]
    }
   ],
   "source": [
    "# for문이 끝나도 그 반복문의 변수가 살아 있거든.\n",
    "# pass했으면 마지막까지 갔을 거고\n",
    "# 그 마지막을 print하든가 할 수 있을 거다.\n",
    "infile = open('USPresidents.txt', 'r')\n",
    "for line in infile:\n",
    "    pass\n",
    "print(line.rstrip())\n",
    "infile.close()"
   ],
   "metadata": {
    "collapsed": false
   }
  },
  {
   "cell_type": "code",
   "execution_count": null,
   "outputs": [],
   "source": [
    "print('세우려면 asdf 치십쇼')\n",
    "while True:\n",
    "    s = input('뭐 좀 입력해 보십쇼: ')\n",
    "    if s == 'asdf':\n",
    "        break;\n",
    "    print('니가 친 문자의 길이는 ', len(s))\n",
    "print('Done')"
   ],
   "metadata": {
    "collapsed": false
   }
  },
  {
   "cell_type": "code",
   "execution_count": null,
   "outputs": [],
   "source": [
    "print('세우려면 asdf 치십쇼')\n",
    "while True:\n",
    "    s = input('뭐 좀 입력해 보십쇼: ')\n",
    "    print('니가 친 문자의 길이는 ', len(s))\n",
    "    if s == 'asdf':\n",
    "        break\n",
    "    if len(s) < 3:\n",
    "        print('야 너무 짧다')\n",
    "        continue\n",
    "\n",
    "    print('이 정도 길이는 돼야지')"
   ],
   "metadata": {
    "collapsed": false,
    "pycharm": {
     "is_executing": true
    }
   }
  }
 ],
 "metadata": {
  "kernelspec": {
   "display_name": "Python 3",
   "language": "python",
   "name": "python3"
  },
  "language_info": {
   "codemirror_mode": {
    "name": "ipython",
    "version": 2
   },
   "file_extension": ".py",
   "mimetype": "text/x-python",
   "name": "python",
   "nbconvert_exporter": "python",
   "pygments_lexer": "ipython2",
   "version": "2.7.6"
  }
 },
 "nbformat": 4,
 "nbformat_minor": 0
}
